{
 "cells": [
  {
   "cell_type": "code",
   "execution_count": null,
   "metadata": {},
   "outputs": [],
   "source": [
    "from pathlib import Path\n",
    "\n",
    "import pandas as pd\n",
    "from ydata_profiling import ProfileReport"
   ]
  },
  {
   "cell_type": "code",
   "execution_count": null,
   "metadata": {},
   "outputs": [],
   "source": [
    "ROOT_DIR = Path.cwd().parent.parent\n",
    "DATA_DIR = ROOT_DIR / \"data\""
   ]
  },
  {
   "cell_type": "code",
   "execution_count": null,
   "metadata": {},
   "outputs": [],
   "source": [
    "# list all files in the data directory\n",
    "for file in list(DATA_DIR.iterdir()):\n",
    "    if not file.name.endswith(\"#\"):\n",
    "        print(file.name)"
   ]
  },
  {
   "attachments": {},
   "cell_type": "markdown",
   "metadata": {},
   "source": [
    "\n",
    "##### Getting the encoding of a file\n",
    "In Linux to get the encoding of a file you can use the `file` command: \n",
    "\n",
    "```bash\n",
    "file -bi Export\\ _\\ Ausstiegsseiten\\ _\\ 3.\\ August\\ 2022\\ –\\ 20.\\ März\\ 2023.csv\n",
    "text/csv; charset=utf-16le\n",
    "```"
   ]
  },
  {
   "cell_type": "code",
   "execution_count": null,
   "metadata": {},
   "outputs": [],
   "source": [
    "# read the data\n",
    "df = pd.read_csv(\n",
    "    DATA_DIR / \"Export _ Ausstiegsseiten _ 3. August 2022 – 20. März 2023.csv\",\n",
    "    encoding=\"utf-16le\",\n",
    ")"
   ]
  },
  {
   "cell_type": "code",
   "execution_count": null,
   "metadata": {},
   "outputs": [],
   "source": [
    "df_exit_pages = pd.read_csv(\n",
    "    DATA_DIR / \"Export _ Ausstiegsseiten _ 3. August 2022 – 20. März 2023.csv\",\n",
    "    encoding=\"utf-16le\",\n",
    ")\n",
    "df_exit_pages.name = \"Exit Pages\"\n",
    "df_entry_pages = pd.read_csv(\n",
    "    DATA_DIR / \"Export _ Einstiegsseiten _ 3. August 2022 – 20. März 2023.csv\",\n",
    "    encoding=\"utf-16le\",\n",
    ")\n",
    "df_entry_pages.name = \"Entry Pages\"\n",
    "df_search_engines = pd.read_csv(\n",
    "    DATA_DIR / \"Export _ Suchmaschinen _ 3. August 2022 – 20. März 2023.csv\",\n",
    "    encoding=\"utf-16le\",\n",
    ")\n",
    "df_search_engines.name = \"Search Engines\"\n",
    "df_channel_type = pd.read_csv(\n",
    "    DATA_DIR / \"Export _ Kanaltyp _ 3. August 2022 – 20. März 2023 (1).csv\",\n",
    "    encoding=\"utf-16le\",\n",
    ")\n",
    "df_channel_type.name = \"Channel Type\""
   ]
  },
  {
   "cell_type": "code",
   "execution_count": null,
   "metadata": {},
   "outputs": [],
   "source": [
    "df_main = pd.read_csv(\n",
    "    DATA_DIR / \"Export _  _ 3. August 2022 – 8. März 2023.csv\", encoding=\"utf-16le\"\n",
    ")"
   ]
  },
  {
   "cell_type": "code",
   "execution_count": null,
   "metadata": {},
   "outputs": [],
   "source": [
    "profile = ProfileReport(df_main, minimal=True, title=\"Main Table\")\n",
    "profile.to_file(\"output/Main Table.html\")"
   ]
  },
  {
   "cell_type": "code",
   "execution_count": null,
   "metadata": {},
   "outputs": [],
   "source": [
    "dfs = [df_exit_pages, df_entry_pages, df_search_engines, df_channel_type]"
   ]
  },
  {
   "cell_type": "code",
   "execution_count": null,
   "metadata": {},
   "outputs": [],
   "source": [
    "for df in dfs:\n",
    "    profile = ProfileReport(df, minimal=True, title=df.name)\n",
    "    profile.to_file(f\"output/{df.name}.html\")"
   ]
  },
  {
   "attachments": {},
   "cell_type": "markdown",
   "metadata": {},
   "source": [
    "#### Column names"
   ]
  },
  {
   "cell_type": "code",
   "execution_count": null,
   "metadata": {},
   "outputs": [],
   "source": [
    "df_exit_pages_column_translations = pd.read_csv(\n",
    "    \"exit_pages_columns_translation.csv\", sep=\"\\t\"\n",
    ")\n",
    "df_entry_pages_column_translations = pd.read_csv(\n",
    "    \"entry_pages_columns_translation.csv\", sep=\"\\t\"\n",
    ")\n",
    "df_search_engines_column_translations = pd.read_csv(\n",
    "    \"search_engines_columns_translation.csv\", sep=\"\\t\"\n",
    ")\n",
    "df_channel_type_column_translations = pd.read_csv(\n",
    "    \"channel_type_columns_translation.csv\", sep=\"\\t\"\n",
    ")\n",
    "# df_entry_pages_column_translations"
   ]
  }
 ],
 "metadata": {
  "kernelspec": {
   "display_name": "web-tracking-analytics-NafoY0yc",
   "language": "python",
   "name": "python3"
  },
  "language_info": {
   "codemirror_mode": {
    "name": "ipython",
    "version": 3
   },
   "file_extension": ".py",
   "mimetype": "text/x-python",
   "name": "python",
   "nbconvert_exporter": "python",
   "pygments_lexer": "ipython3",
   "version": "3.10.6"
  },
  "orig_nbformat": 4
 },
 "nbformat": 4,
 "nbformat_minor": 2
}
