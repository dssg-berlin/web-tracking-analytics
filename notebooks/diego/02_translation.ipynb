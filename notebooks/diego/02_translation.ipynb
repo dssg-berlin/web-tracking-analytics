{
 "cells": [
  {
   "cell_type": "code",
   "execution_count": 26,
   "metadata": {},
   "outputs": [],
   "source": [
    "from pathlib import Path\n",
    "\n",
    "import pandas as pd"
   ]
  },
  {
   "cell_type": "code",
   "execution_count": 27,
   "metadata": {},
   "outputs": [],
   "source": [
    "ROOT_DIR = Path.cwd().parent.parent\n",
    "DATA_DIR = ROOT_DIR / 'data'\n",
    "TRANSLATION_DIR = ROOT_DIR / \"notebooks\" / \"diego\" / \"input\" / \"column_translation\""
   ]
  },
  {
   "cell_type": "code",
   "execution_count": 28,
   "metadata": {},
   "outputs": [
    {
     "name": "stderr",
     "output_type": "stream",
     "text": [
      "/tmp/ipykernel_53783/3514139867.py:1: DtypeWarning: Columns (38,40,162,169,170,171,172,234,241,245,246,247,248,252,253,263,292,299,303,304,318,333,348,351,355,356,370,385,400,415,430,445,456,473,518,523,525,527,529,533,537,542,544,546,550,557,563,610,660,666,671,673,677,681,682,684,687,688,689,690,692,693,696,698,699,701,703,704,705,707,708,711,713,714,716,718,719,720,722,723,726,728,729,731,733,734,735,737,738,741,743,744,746,748,749,750,752,753,756,758,759,761,763,764,765,767,768,771,773,774,776,778,779,780,782,783,786,788,789,791,793,794,795,797,798,801,802,803,804,806,807,808,810,811,814,816,817,819,821,822,823,825,826,829,831,832,834,836,837,838,840,841,844,846,847,849,851,852,853,855,856,859,861,862,863,864,866,867,868,870,871,874,876,877,879,881,882,883,885,886,889,891,892,894,896,897,898,900,901,904,906,907,909,911,912,913,915,916,919,921,922,924,926,930,933,935,937,939,941,943,945,949,952,956,957,959,961,963,965,967,969,970,971,973,974,976,978,981,982,984,986,987,988,990,991,994,996,997,999,1001,1002,1003,1005,1006,1008,1010,1013,1014,1016,1018,1019,1020,1022,1023,1026,1028,1029,1031,1033,1035,1037,1038,1039,1041,1042,1045,1047,1048,1050,1052,1053,1054,1056,1057,1059,1061,1064,1065,1067,1069,1070,1071,1073,1074,1076,1078,1081,1082,1084,1086,1087,1088,1090,1091,1093,1095,1098,1099,1101,1103,1104,1105,1107,1108,1111,1113,1114,1116,1118,1119,1120,1122,1123,1126,1128,1129,1131,1133,1134,1135,1137,1138,1140,1142,1145,1146,1148,1150,1151,1152,1154,1155,1157,1159,1162,1163,1165,1167,1168,1169,1171,1172,1174,1176,1179,1180,1182,1184,1185,1186,1188,1189,1192,1194,1195,1197,1199,1200,1201,1203,1204,1206,1208,1211,1212,1214,1216,1217,1218,1220,1221,1224,1226,1227,1229,1231,1232,1233,1235,1236,1238,1240,1243,1244,1246,1248,1249,1250,1252,1253,1256,1258,1259,1261,1263,1264,1265,1267,1268,1270,1272,1275,1276,1278,1280,1281,1282,1284,1285,1288,1290,1291,1293,1295,1296,1297,1299,1300,1302,1304,1307,1308,1310,1312,1313,1314,1316,1317,1319,1321,1324,1325,1327,1329,1330,1331,1333,1334,1336,1338,1341,1342,1344,1346,1347,1348,1350,1351,1353,1355,1358,1359,1361,1363,1364,1365,1367,1368,1370,1372,1375,1376,1378,1380,1381,1382,1384,1385,1388,1390,1391,1393,1395,1397,1399,1401) have mixed types. Specify dtype option on import or set low_memory=False.\n",
      "  df_main_table = pd.read_csv(DATA_DIR / 'Export _  _ 3. August 2022 – 8. März 2023.csv', encoding=\"utf-16le\")\n"
     ]
    }
   ],
   "source": [
    "df_main_table = pd.read_csv(DATA_DIR / 'Export _  _ 3. August 2022 – 8. März 2023.csv', encoding=\"utf-16le\")\n",
    "df_main_table.name = 'Main Table'\n",
    "df_exit_pages = pd.read_csv(DATA_DIR / 'Export _ Ausstiegsseiten _ 3. August 2022 – 20. März 2023.csv', encoding=\"utf-16le\")\n",
    "df_exit_pages.name = 'Exit Pages'\n",
    "df_entry_pages = pd.read_csv(DATA_DIR / 'Export _ Einstiegsseiten _ 3. August 2022 – 20. März 2023.csv', encoding=\"utf-16le\")\n",
    "df_entry_pages.name = 'Entry Pages'\n",
    "df_search_engines = pd.read_csv(DATA_DIR / 'Export _ Suchmaschinen _ 3. August 2022 – 20. März 2023.csv', encoding=\"utf-16le\")\n",
    "df_search_engines.name = 'Search Engines'\n",
    "df_channel_type = pd.read_csv(DATA_DIR / 'Export _ Kanaltyp _ 3. August 2022 – 20. März 2023 (1).csv', encoding=\"utf-16le\")\n",
    "df_channel_type.name = 'Channel Type'"
   ]
  },
  {
   "cell_type": "code",
   "execution_count": 29,
   "metadata": {},
   "outputs": [],
   "source": [
    "df_exit_pages_column_translations = pd.read_csv(TRANSLATION_DIR / \"exit_pages_columns_translation.csv\", sep=\"\\t\")\n",
    "df_entry_pages_column_translations = pd.read_csv(TRANSLATION_DIR / \"entry_pages_columns_translation.csv\", sep=\"\\t\")\n",
    "df_search_engines_column_translations = pd.read_csv(TRANSLATION_DIR / \"search_engines_columns_translation.csv\", sep=\"\\t\")\n",
    "df_channel_type_column_translations = pd.read_csv(TRANSLATION_DIR / \"channel_type_columns_translation.csv\", sep=\"\\t\")"
   ]
  },
  {
   "cell_type": "code",
   "execution_count": 30,
   "metadata": {},
   "outputs": [],
   "source": [
    "# replace column names with translated ones\n",
    "df_exit_pages.columns = df_exit_pages_column_translations['English']\n",
    "df_entry_pages.columns = df_entry_pages_column_translations['English']\n",
    "df_search_engines.columns = df_search_engines_column_translations['English']\n",
    "df_channel_type.columns = df_channel_type_column_translations['English']"
   ]
  }
 ],
 "metadata": {
  "kernelspec": {
   "display_name": "web-tracking-analytics-NafoY0yc",
   "language": "python",
   "name": "python3"
  },
  "language_info": {
   "codemirror_mode": {
    "name": "ipython",
    "version": 3
   },
   "file_extension": ".py",
   "mimetype": "text/x-python",
   "name": "python",
   "nbconvert_exporter": "python",
   "pygments_lexer": "ipython3",
   "version": "3.10.6"
  },
  "orig_nbformat": 4
 },
 "nbformat": 4,
 "nbformat_minor": 2
}
