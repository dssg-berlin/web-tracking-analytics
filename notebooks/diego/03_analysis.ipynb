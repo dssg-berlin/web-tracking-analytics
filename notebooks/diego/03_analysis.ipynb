{
 "cells": [
  {
   "attachments": {},
   "cell_type": "markdown",
   "metadata": {},
   "source": [
    "### Group 4) Actions/Conversions\n",
    "- [ ] What is the conversion rate (conversions/visitors)?\n",
    "- [ ] What are the most common conversion paths?\n",
    "- [ ] What is the average number of visits/steps required before a visitor converts?\n",
    "- [ ] Is the recent tracking sufficient/fitting the purpose? Define possible Goals and check if the data contains the corresponding information."
   ]
  },
  {
   "cell_type": "code",
   "execution_count": 2,
   "metadata": {},
   "outputs": [
    {
     "name": "stdout",
     "output_type": "stream",
     "text": [
      "Export _ Ausstiegsseiten _ 3. August 2022 – 20. März 2023.csv\n",
      "stacked_df.csv\n",
      "Export _  _ 3. August 2022 – 8. März 2023.csv\n",
      "Export _ Einstiegsseiten _ 3. August 2022 – 20. März 2023.csv\n",
      "Export _ Suchmaschinen _ 3. August 2022 – 20. März 2023.csv\n",
      "Export _ Kanaltyp _ 3. August 2022 – 20. März 2023 (1).csv\n"
     ]
    }
   ],
   "source": [
    "from datetime import datetime\n",
    "from pathlib import Path\n",
    "\n",
    "import pandas as pd\n",
    "\n",
    "ROOT_DIR = Path.cwd().parent.parent\n",
    "DATA_DIR = ROOT_DIR / \"data\"\n",
    "TRANSLATION_DIR = ROOT_DIR / \"notebooks\" / \"diego\" / \"input\" / \"column_translation\"\n",
    "\n",
    "# list all files in the data directory\n",
    "for file in list(DATA_DIR.iterdir()):\n",
    "    if not file.name.endswith(\"#\"):\n",
    "        print(file.name)"
   ]
  },
  {
   "cell_type": "code",
   "execution_count": 3,
   "metadata": {},
   "outputs": [
    {
     "name": "stderr",
     "output_type": "stream",
     "text": [
      "/tmp/ipykernel_10266/704195051.py:21: DtypeWarning: Columns (38,40,162,169,170,171,172,234,241,245,246,247,248,252,253,263,292,299,303,304,318,333,348,351,355,356,370,385,400,415,430,445,456,473,518,523,525,527,529,533,537,542,544,546,550,557,563,610,660,666,671,673,677,681,682,684,687,688,689,690,692,693,696,698,699,701,703,704,705,707,708,711,713,714,716,718,719,720,722,723,726,728,729,731,733,734,735,737,738,741,743,744,746,748,749,750,752,753,756,758,759,761,763,764,765,767,768,771,773,774,776,778,779,780,782,783,786,788,789,791,793,794,795,797,798,801,802,803,804,806,807,808,810,811,814,816,817,819,821,822,823,825,826,829,831,832,834,836,837,838,840,841,844,846,847,849,851,852,853,855,856,859,861,862,863,864,866,867,868,870,871,874,876,877,879,881,882,883,885,886,889,891,892,894,896,897,898,900,901,904,906,907,909,911,912,913,915,916,919,921,922,924,926,930,933,935,937,939,941,943,945,949,952,956,957,959,961,963,965,967,969,970,971,973,974,976,978,981,982,984,986,987,988,990,991,994,996,997,999,1001,1002,1003,1005,1006,1008,1010,1013,1014,1016,1018,1019,1020,1022,1023,1026,1028,1029,1031,1033,1035,1037,1038,1039,1041,1042,1045,1047,1048,1050,1052,1053,1054,1056,1057,1059,1061,1064,1065,1067,1069,1070,1071,1073,1074,1076,1078,1081,1082,1084,1086,1087,1088,1090,1091,1093,1095,1098,1099,1101,1103,1104,1105,1107,1108,1111,1113,1114,1116,1118,1119,1120,1122,1123,1126,1128,1129,1131,1133,1134,1135,1137,1138,1140,1142,1145,1146,1148,1150,1151,1152,1154,1155,1157,1159,1162,1163,1165,1167,1168,1169,1171,1172,1174,1176,1179,1180,1182,1184,1185,1186,1188,1189,1192,1194,1195,1197,1199,1200,1201,1203,1204,1206,1208,1211,1212,1214,1216,1217,1218,1220,1221,1224,1226,1227,1229,1231,1232,1233,1235,1236,1238,1240,1243,1244,1246,1248,1249,1250,1252,1253,1256,1258,1259,1261,1263,1264,1265,1267,1268,1270,1272,1275,1276,1278,1280,1281,1282,1284,1285,1288,1290,1291,1293,1295,1296,1297,1299,1300,1302,1304,1307,1308,1310,1312,1313,1314,1316,1317,1319,1321,1324,1325,1327,1329,1330,1331,1333,1334,1336,1338,1341,1342,1344,1346,1347,1348,1350,1351,1353,1355,1358,1359,1361,1363,1364,1365,1367,1368,1370,1372,1375,1376,1378,1380,1381,1382,1384,1385,1388,1390,1391,1393,1395,1397,1399,1401) have mixed types. Specify dtype option on import or set low_memory=False.\n",
      "  df_main_table = pd.read_csv(\n"
     ]
    }
   ],
   "source": [
    "df_exit_pages = pd.read_csv(\n",
    "    DATA_DIR / \"Export _ Ausstiegsseiten _ 3. August 2022 – 20. März 2023.csv\",\n",
    "    encoding=\"utf-16le\",\n",
    ")\n",
    "df_exit_pages.name = \"Exit Pages\"\n",
    "df_entry_pages = pd.read_csv(\n",
    "    DATA_DIR / \"Export _ Einstiegsseiten _ 3. August 2022 – 20. März 2023.csv\",\n",
    "    encoding=\"utf-16le\",\n",
    ")\n",
    "df_entry_pages.name = \"Entry Pages\"\n",
    "df_search_engines = pd.read_csv(\n",
    "    DATA_DIR / \"Export _ Suchmaschinen _ 3. August 2022 – 20. März 2023.csv\",\n",
    "    encoding=\"utf-16le\",\n",
    ")\n",
    "df_search_engines.name = \"Search Engines\"\n",
    "df_channel_type = pd.read_csv(\n",
    "    DATA_DIR / \"Export _ Kanaltyp _ 3. August 2022 – 20. März 2023 (1).csv\",\n",
    "    encoding=\"utf-16le\",\n",
    ")\n",
    "df_channel_type.name = \"Channel Type\"\n",
    "df_main_table = pd.read_csv(\n",
    "    DATA_DIR / \"Export _  _ 3. August 2022 – 8. März 2023.csv\", encoding=\"utf-16le\"\n",
    ")\n",
    "df_main_table.name = \"Main Table\"\n",
    "\n",
    "df_exit_pages_column_translations = pd.read_csv(\n",
    "    TRANSLATION_DIR / \"exit_pages_columns_translation.csv\", sep=\"\\t\"\n",
    ")\n",
    "df_entry_pages_column_translations = pd.read_csv(\n",
    "    TRANSLATION_DIR / \"entry_pages_columns_translation.csv\", sep=\"\\t\"\n",
    ")\n",
    "df_search_engines_column_translations = pd.read_csv(\n",
    "    TRANSLATION_DIR / \"search_engines_columns_translation.csv\", sep=\"\\t\"\n",
    ")\n",
    "df_channel_type_column_translations = pd.read_csv(\n",
    "    TRANSLATION_DIR / \"channel_type_columns_translation.csv\", sep=\"\\t\"\n",
    ")\n",
    "\n",
    "# replace column names with translated ones\n",
    "df_exit_pages.columns = df_exit_pages_column_translations[\"English\"]\n",
    "df_entry_pages.columns = df_entry_pages_column_translations[\"English\"]\n",
    "df_search_engines.columns = df_search_engines_column_translations[\"English\"]\n",
    "df_channel_type.columns = df_channel_type_column_translations[\"English\"]"
   ]
  },
  {
   "cell_type": "code",
   "execution_count": 74,
   "metadata": {},
   "outputs": [
    {
     "name": "stderr",
     "output_type": "stream",
     "text": [
      "/tmp/ipykernel_68488/3373380390.py:1: DtypeWarning: Columns (25,28,32,35,38,93,102,103,104,106,107,110,112,113,114,115,117,121,122,123,124,125,126) have mixed types. Specify dtype option on import or set low_memory=False.\n",
      "  df_stacked = pd.read_csv(DATA_DIR / \"stacked_df.csv\")\n"
     ]
    }
   ],
   "source": [
    "df_stacked = pd.read_csv(DATA_DIR / \"stacked_df.csv\")"
   ]
  },
  {
   "cell_type": "code",
   "execution_count": 76,
   "metadata": {},
   "outputs": [
    {
     "data": {
      "text/plain": [
       "Index(['idSite', 'idVisit', 'visitIp', 'visitorId', 'fingerprint',\n",
       "       'type (actionDetails 0)', 'url (actionDetails 0)',\n",
       "       'pageTitle (actionDetails 0)', 'pageIdAction (actionDetails 0)',\n",
       "       'idpageview (actionDetails 0)',\n",
       "       ...\n",
       "       'Unnamed: 576', 'Unnamed: 577', 'Unnamed: 578', 'Unnamed: 579',\n",
       "       'Unnamed: 580', 'Unnamed: 581', 'Unnamed: 582', 'Unnamed: 583',\n",
       "       'Unnamed: 584', 'Unnamed: 585'],\n",
       "      dtype='object', length=586)"
      ]
     },
     "execution_count": 76,
     "metadata": {},
     "output_type": "execute_result"
    }
   ],
   "source": [
    "df_stacked.columns"
   ]
  },
  {
   "cell_type": "code",
   "execution_count": 46,
   "metadata": {},
   "outputs": [
    {
     "name": "stdout",
     "output_type": "stream",
     "text": [
      "848\n"
     ]
    }
   ],
   "source": [
    "# data cleaning, removing empty columns and columns with only one unique value\n",
    "# remove empty columns https://www.geeksforgeeks.org/drop-empty-columns-in-pandas/\n",
    "nan_value = float(\"NaN\")\n",
    "df_main_table.replace(\"\", nan_value, inplace=True)\n",
    "df_main_table.dropna(how=\"all\", axis=1, inplace=True)\n",
    "\n",
    "# remove columns with only one unique value\n",
    "df_main_table = df_main_table.loc[:, df_main_table.apply(pd.Series.nunique) != 1]\n",
    "\n",
    "print(len(df_main_table.columns))"
   ]
  },
  {
   "cell_type": "code",
   "execution_count": 30,
   "metadata": {},
   "outputs": [
    {
     "data": {
      "text/plain": [
       "Index(['idVisit', 'visitIp', 'visitorId', 'fingerprint',\n",
       "       'type (actionDetails 0)', 'url (actionDetails 0)',\n",
       "       'pageTitle (actionDetails 0)', 'pageIdAction (actionDetails 0)',\n",
       "       'idpageview (actionDetails 0)', 'serverTimePretty (actionDetails 0)',\n",
       "       ...\n",
       "       'idpageview (actionDetails 53)', 'serverTimePretty (actionDetails 53)',\n",
       "       'pageId (actionDetails 53)', 'timeSpent (actionDetails 53)',\n",
       "       'timeSpentPretty (actionDetails 53)',\n",
       "       'pageviewPosition (actionDetails 53)', 'subtitle (actionDetails 53)',\n",
       "       'timestamp (actionDetails 53)', 'pageLoadTime (actionDetails 24)',\n",
       "       'pageLoadTimeMilliseconds (actionDetails 24)'],\n",
       "      dtype='object', length=848)"
      ]
     },
     "execution_count": 30,
     "metadata": {},
     "output_type": "execute_result"
    }
   ],
   "source": [
    "df_main_table.columns"
   ]
  },
  {
   "cell_type": "code",
   "execution_count": 48,
   "metadata": {},
   "outputs": [],
   "source": [
    "df_main_table_unpivot = pd.melt(\n",
    "    df_main_table,\n",
    "    id_vars=[\"idVisit\", \"visitIp\", \"visitorId\", \"fingerprint\"],\n",
    "    value_vars=[\n",
    "        col\n",
    "        for col in df_main_table.columns\n",
    "        if col not in [\"idVisit\", \"visitIp\", \"visitorId\", \"fingerprint\"]\n",
    "    ],\n",
    ")\n",
    "df_main_table_unpivot.dropna(subset=[\"value\"], inplace=True)\n",
    "# df_main_table_unpivot.to_csv(\"output/main_table_unpivot.csv\", index=False)"
   ]
  },
  {
   "cell_type": "code",
   "execution_count": 50,
   "metadata": {},
   "outputs": [],
   "source": [
    "### Group 4) Actions/Conversions\n",
    "# - [ ] What is the conversion rate (conversions/visitors)?\n",
    "# - [ ] What are the most common conversion paths?\n",
    "# - [ ] What is the average number of visits/steps required before a visitor converts?\n",
    "# - [ ] Is the recent tracking sufficient/fitting the purpose? Define possible Goals and check if the data contains the corresponding information."
   ]
  },
  {
   "cell_type": "code",
   "execution_count": 86,
   "metadata": {},
   "outputs": [
    {
     "name": "stdout",
     "output_type": "stream",
     "text": [
      "Bounce rate: 43.49%\n"
     ]
    }
   ],
   "source": [
    "# Bounce rate\n",
    "bounce_rate = df_main_table[\"url (actionDetails 1)\"].isna().sum() / len(df_main_table)\n",
    "print(f\"Bounce rate: {bounce_rate:.2%}\")"
   ]
  },
  {
   "cell_type": "code",
   "execution_count": 94,
   "metadata": {},
   "outputs": [
    {
     "data": {
      "text/plain": [
       "action     81\n",
       "outlink     6\n",
       "Name: type (actionDetails 10), dtype: int64"
      ]
     },
     "execution_count": 94,
     "metadata": {},
     "output_type": "execute_result"
    }
   ],
   "source": [
    "# action / outlink\n",
    "df_main_table[\"type (actionDetails 10)\"].value_counts()"
   ]
  },
  {
   "cell_type": "code",
   "execution_count": 97,
   "metadata": {},
   "outputs": [],
   "source": [
    "type_columns = [\n",
    "    \"type (actionDetails 0)\",\n",
    "    \"type (actionDetails 1)\",\n",
    "    \"type (actionDetails 2)\",\n",
    "    \"type (actionDetails 3)\",\n",
    "    \"type (actionDetails 4)\",\n",
    "    \"type (actionDetails 5)\",\n",
    "    \"type (actionDetails 6)\",\n",
    "    \"type (actionDetails 7)\",\n",
    "    \"type (actionDetails 8)\",\n",
    "    \"type (actionDetails 9)\",\n",
    "    \"type (actionDetails 10)\",\n",
    "    \"type (actionDetails 11)\",\n",
    "    \"type (actionDetails 12)\",\n",
    "    \"type (actionDetails 13)\",\n",
    "    \"type (actionDetails 14)\",\n",
    "    \"type (actionDetails 15)\",\n",
    "    \"type (actionDetails 16)\",\n",
    "    \"type (actionDetails 17)\",\n",
    "    \"type (actionDetails 18)\",\n",
    "    \"type (actionDetails 19)\",\n",
    "    \"type (actionDetails 20)\",\n",
    "    \"type (actionDetails 21)\",\n",
    "    \"type (actionDetails 22)\",\n",
    "    \"type (actionDetails 23)\",\n",
    "    \"type (actionDetails 24)\",\n",
    "    \"type (actionDetails 25)\",\n",
    "    \"type (actionDetails 26)\",\n",
    "    \"type (actionDetails 27)\",\n",
    "    \"type (actionDetails 28)\",\n",
    "    \"type (actionDetails 29)\",\n",
    "    \"type (actionDetails 30)\",\n",
    "    \"type (actionDetails 31)\",\n",
    "    \"type (actionDetails 32)\",\n",
    "    \"type (actionDetails 33)\",\n",
    "    \"type (actionDetails 34)\",\n",
    "    \"type (actionDetails 35)\",\n",
    "    \"type (actionDetails 36)\",\n",
    "    \"type (actionDetails 37)\",\n",
    "    \"type (actionDetails 38)\",\n",
    "    \"type (actionDetails 39)\",\n",
    "    \"type (actionDetails 40)\",\n",
    "    \"type (actionDetails 41)\",\n",
    "    \"type (actionDetails 42)\",\n",
    "    \"type (actionDetails 43)\",\n",
    "    \"type (actionDetails 44)\",\n",
    "    \"type (actionDetails 45)\",\n",
    "    \"type (actionDetails 46)\",\n",
    "    \"type (actionDetails 47)\",\n",
    "    \"type (actionDetails 48)\",\n",
    "    \"type (actionDetails 49)\",\n",
    "    \"type (actionDetails 50)\",\n",
    "    \"type (actionDetails 51)\",\n",
    "    \"type (actionDetails 52)\",\n",
    "    \"type (actionDetails 53)\",\n",
    "    \"type (actionDetails 54)\",\n",
    "    \"type (actionDetails 55)\",\n",
    "    \"type (actionDetails 56)\",\n",
    "    \"type (actionDetails 57)\",\n",
    "    \"type (actionDetails 58)\",\n",
    "    \"type (actionDetails 59)\",\n",
    "    \"type (actionDetails 60)\",\n",
    "    \"type (actionDetails 61)\",\n",
    "    \"type (actionDetails 62)\",\n",
    "    \"type (actionDetails 63)\",\n",
    "    \"type (actionDetails 64)\",\n",
    "    \"type (actionDetails 65)\",\n",
    "    \"type (actionDetails 66)\",\n",
    "    \"type (actionDetails 67)\",\n",
    "    \"type (actionDetails 68)\",\n",
    "    \"type (actionDetails 69)\",\n",
    "    \"type (actionDetails 70)\",\n",
    "    \"type (actionDetails 71)\",\n",
    "    \"type (actionDetails 72)\",\n",
    "    \"type (actionDetails 73)\",\n",
    "    \"type (actionDetails 74)\",\n",
    "    \"type (actionDetails 75)\",\n",
    "]"
   ]
  },
  {
   "cell_type": "code",
   "execution_count": 101,
   "metadata": {},
   "outputs": [
    {
     "data": {
      "text/plain": [
       "action      4816\n",
       "outlink      498\n",
       "goal         350\n",
       "download       8\n",
       "Name: value, dtype: int64"
      ]
     },
     "execution_count": 101,
     "metadata": {},
     "output_type": "execute_result"
    }
   ],
   "source": [
    "df_main_table_unpivot[\n",
    "    df_main_table_unpivot.variable.isin(type_columns)\n",
    "].value.value_counts()"
   ]
  },
  {
   "cell_type": "code",
   "execution_count": 112,
   "metadata": {},
   "outputs": [
    {
     "name": "stdout",
     "output_type": "stream",
     "text": [
      "Target conversion for outlinks: 8.78%\n",
      "Target conversion over unique users for outlinks: 30.46%\n"
     ]
    }
   ],
   "source": [
    "# Target conversion\n",
    "print(f\"Target conversion for outlinks: {498.0 / (4816 + 498 + 350 + 8):.2%}\")\n",
    "print(\n",
    "    f\"Target conversion over unique users for outlinks: {498.0 / (len(df_main_table)):.2%}\"\n",
    ")"
   ]
  },
  {
   "cell_type": "code",
   "execution_count": 124,
   "metadata": {},
   "outputs": [
    {
     "data": {
      "text/plain": [
       "0      2023-03-08 14:34:33\n",
       "1      2023-03-08 14:26:06\n",
       "2      2023-03-08 12:58:09\n",
       "3      2023-03-08 12:41:39\n",
       "4      2023-03-08 12:06:02\n",
       "               ...        \n",
       "1630   2022-08-04 08:46:52\n",
       "1631   2022-08-04 08:49:57\n",
       "1632   2022-08-04 08:37:44\n",
       "1633   2022-08-04 08:08:39\n",
       "1634   2022-08-04 08:35:12\n",
       "Name: timestamp (actionDetails 0), Length: 1635, dtype: datetime64[ns]"
      ]
     },
     "execution_count": 124,
     "metadata": {},
     "output_type": "execute_result"
    }
   ],
   "source": [
    "df_main_table[\"timestamp (actionDetails 0)\"].map(lambda x: datetime.utcfromtimestamp(x))"
   ]
  },
  {
   "cell_type": "code",
   "execution_count": 141,
   "metadata": {},
   "outputs": [
    {
     "data": {
      "text/plain": [
       "array([[<AxesSubplot: title={'center': 'actions'}>]], dtype=object)"
      ]
     },
     "execution_count": 141,
     "metadata": {},
     "output_type": "execute_result"
    },
    {
     "data": {
      "image/png": "[encoded data removed]",
      "image/svg+xml": "<?xml version=\"1.0\" encoding=\"utf-8\" standalone=\"no\"?>\n<!DOCTYPE svg PUBLIC \"-//W3C//DTD SVG 1.1//EN\"\n  \"http://www.w3.org/Graphics/SVG/1.1/DTD/svg11.dtd\">\n<svg xmlns:xlink=\"http://www.w3.org/1999/xlink\" width=\"933.2875pt\" height=\"489.71625pt\" viewBox=\"0 0 933.2875 489.71625\" xmlns=\"http://www.w3.org/2000/svg\" version=\"1.1\">\n <metadata>\n  <rdf:RDF xmlns:dc=\"http://purl.org/dc/elements/1.1/\" xmlns:cc=\"http://creativecommons.org/ns#\" xmlns:rdf=\"http://www.w3.org/1999/02/22-rdf-syntax-ns#\">\n   <cc:Work>\n    <dc:type rdf:resource=\"http://purl.org/dc/dcmitype/StillImage\"/>\n    <dc:date>2023-03-25T15:36:50.573429</dc:date>\n    <dc:format>image/svg+xml</dc:format>\n    <dc:creator>\n     <cc:Agent>\n      <dc:title>Matplotlib v3.6.3, https://matplotlib.org/</dc:title>\n     </cc:Agent>\n    </dc:creator>\n   </cc:Work>\n  </rdf:RDF>\n </metadata>\n <defs>\n  <style type=\"text/css\">*{stroke-linejoin: round; stroke-linecap: butt}</style>\n </defs>\n <g id=\"figure_1\">\n  <g id=\"patch_1\">\n   <path d=\"M 0 489.71625 \nL 933.2875 489.71625 \nL 933.2875 0 \nL 0 0 \nz\n\" style=\"fill: #ffffff\"/>\n  </g>\n  <g id=\"axes_1\">\n   <g id=\"patch_2\">\n    <path d=\"M 33.2875 465.838125 \nL 926.0875 465.838125 \nL 926.0875 22.318125 \nL 33.2875 22.318125 \nz\n\" style=\"fill: #ffffff\"/>\n   </g>\n   <g id=\"patch_3\">\n    <path d=\"M 73.869318 465.838125 \nL 81.985682 465.838125 \nL 81.985682 43.438125 \nL 73.869318 43.438125 \nz\n\" clip-path=\"url(#p06837b9d6f)\" style=\"fill: #1f77b4\"/>\n   </g>\n   <g id=\"patch_4\">\n    <path d=\"M 81.985682 465.838125 \nL 90.102045 465.838125 \nL 90.102045 264.723518 \nL 81.985682 264.723518 \nz\n\" clip-path=\"url(#p06837b9d6f)\" style=\"fill: #1f77b4\"/>\n   </g>\n   <g id=\"patch_5\">\n    <path d=\"M 90.102045 465.838125 \nL 98.218409 465.838125 \nL 98.218409 354.898799 \nL 90.102045 354.898799 \nz\n\" clip-path=\"url(#p06837b9d6f)\" style=\"fill: #1f77b4\"/>\n   </g>\n   <g id=\"patch_6\">\n    <path d=\"M 98.218409 465.838125 \nL 106.334773 465.838125 \nL 106.334773 465.838125 \nL 98.218409 465.838125 \nz\n\" clip-path=\"url(#p06837b9d6f)\" style=\"fill: #1f77b4\"/>\n   </g>\n   <g id=\"patch_7\">\n    <path d=\"M 106.334773 465.838125 \nL 114.451136 465.838125 \nL 114.451136 402.952732 \nL 106.334773 402.952732 \nz\n\" clip-path=\"url(#p06837b9d6f)\" style=\"fill: #1f77b4\"/>\n   </g>\n   <g id=\"patch_8\">\n    <path d=\"M 114.451136 465.838125 \nL 122.5675 465.838125 \nL 122.5675 424.903294 \nL 114.451136 424.903294 \nz\n\" clip-path=\"url(#p06837b9d6f)\" style=\"fill: #1f77b4\"/>\n   </g>\n   <g id=\"patch_9\">\n    <path d=\"M 122.5675 465.838125 \nL 130.683864 465.838125 \nL 130.683864 440.328013 \nL 122.5675 440.328013 \nz\n\" clip-path=\"url(#p06837b9d6f)\" style=\"fill: #1f77b4\"/>\n   </g>\n   <g id=\"patch_10\">\n    <path d=\"M 130.683864 465.838125 \nL 138.800227 465.838125 \nL 138.800227 465.838125 \nL 130.683864 465.838125 \nz\n\" clip-path=\"url(#p06837b9d6f)\" style=\"fill: #1f77b4\"/>\n   </g>\n   <g id=\"patch_11\">\n    <path d=\"M 138.800227 465.838125 \nL 146.916591 465.838125 \nL 146.916591 443.887563 \nL 138.800227 443.887563 \nz\n\" clip-path=\"url(#p06837b9d6f)\" style=\"fill: #1f77b4\"/>\n   </g>\n   <g id=\"patch_12\">\n    <path d=\"M 146.916591 465.838125 \nL 155.032955 465.838125 \nL 155.032955 451.006664 \nL 146.916591 451.006664 \nz\n\" clip-path=\"url(#p06837b9d6f)\" style=\"fill: #1f77b4\"/>\n   </g>\n   <g id=\"patch_13\">\n    <path d=\"M 155.032955 465.838125 \nL 163.149318 465.838125 \nL 163.149318 449.820147 \nL 155.032955 449.820147 \nz\n\" clip-path=\"url(#p06837b9d6f)\" style=\"fill: #1f77b4\"/>\n   </g>\n   <g id=\"patch_14\">\n    <path d=\"M 163.149318 465.838125 \nL 171.265682 465.838125 \nL 171.265682 465.838125 \nL 163.149318 465.838125 \nz\n\" clip-path=\"url(#p06837b9d6f)\" style=\"fill: #1f77b4\"/>\n   </g>\n   <g id=\"patch_15\">\n    <path d=\"M 171.265682 465.838125 \nL 179.382045 465.838125 \nL 179.382045 460.498799 \nL 171.265682 460.498799 \nz\n\" clip-path=\"url(#p06837b9d6f)\" style=\"fill: #1f77b4\"/>\n   </g>\n   <g id=\"patch_16\">\n    <path d=\"M 179.382045 465.838125 \nL 187.498409 465.838125 \nL 187.498409 454.566215 \nL 179.382045 454.566215 \nz\n\" clip-path=\"url(#p06837b9d6f)\" style=\"fill: #1f77b4\"/>\n   </g>\n   <g id=\"patch_17\">\n    <path d=\"M 187.498409 465.838125 \nL 195.614773 465.838125 \nL 195.614773 463.465091 \nL 187.498409 463.465091 \nz\n\" clip-path=\"url(#p06837b9d6f)\" style=\"fill: #1f77b4\"/>\n   </g>\n   <g id=\"patch_18\">\n    <path d=\"M 195.614773 465.838125 \nL 203.731136 465.838125 \nL 203.731136 465.838125 \nL 195.614773 465.838125 \nz\n\" clip-path=\"url(#p06837b9d6f)\" style=\"fill: #1f77b4\"/>\n   </g>\n   <g id=\"patch_19\">\n    <path d=\"M 203.731136 465.838125 \nL 211.8475 465.838125 \nL 211.8475 459.312282 \nL 203.731136 459.312282 \nz\n\" clip-path=\"url(#p06837b9d6f)\" style=\"fill: #1f77b4\"/>\n   </g>\n   <g id=\"patch_20\">\n    <path d=\"M 211.8475 465.838125 \nL 219.963864 465.838125 \nL 219.963864 464.05835 \nL 211.8475 464.05835 \nz\n\" clip-path=\"url(#p06837b9d6f)\" style=\"fill: #1f77b4\"/>\n   </g>\n   <g id=\"patch_21\">\n    <path d=\"M 219.963864 465.838125 \nL 228.080227 465.838125 \nL 228.080227 463.465091 \nL 219.963864 463.465091 \nz\n\" clip-path=\"url(#p06837b9d6f)\" style=\"fill: #1f77b4\"/>\n   </g>\n   <g id=\"patch_22\">\n    <path d=\"M 228.080227 465.838125 \nL 236.196591 465.838125 \nL 236.196591 465.838125 \nL 228.080227 465.838125 \nz\n\" clip-path=\"url(#p06837b9d6f)\" style=\"fill: #1f77b4\"/>\n   </g>\n   <g id=\"patch_23\">\n    <path d=\"M 236.196591 465.838125 \nL 244.312955 465.838125 \nL 244.312955 462.278574 \nL 236.196591 462.278574 \nz\n\" clip-path=\"url(#p06837b9d6f)\" style=\"fill: #1f77b4\"/>\n   </g>\n   <g id=\"patch_24\">\n    <path d=\"M 244.312955 465.838125 \nL 252.429318 465.838125 \nL 252.429318 464.05835 \nL 244.312955 464.05835 \nz\n\" clip-path=\"url(#p06837b9d6f)\" style=\"fill: #1f77b4\"/>\n   </g>\n   <g id=\"patch_25\">\n    <path d=\"M 252.429318 465.838125 \nL 260.545682 465.838125 \nL 260.545682 464.651608 \nL 252.429318 464.651608 \nz\n\" clip-path=\"url(#p06837b9d6f)\" style=\"fill: #1f77b4\"/>\n   </g>\n   <g id=\"patch_26\">\n    <path d=\"M 260.545682 465.838125 \nL 268.662045 465.838125 \nL 268.662045 465.838125 \nL 260.545682 465.838125 \nz\n\" clip-path=\"url(#p06837b9d6f)\" style=\"fill: #1f77b4\"/>\n   </g>\n   <g id=\"patch_27\">\n    <path d=\"M 268.662045 465.838125 \nL 276.778409 465.838125 \nL 276.778409 465.244867 \nL 268.662045 465.244867 \nz\n\" clip-path=\"url(#p06837b9d6f)\" style=\"fill: #1f77b4\"/>\n   </g>\n   <g id=\"patch_28\">\n    <path d=\"M 276.778409 465.838125 \nL 284.894773 465.838125 \nL 284.894773 462.871833 \nL 276.778409 462.871833 \nz\n\" clip-path=\"url(#p06837b9d6f)\" style=\"fill: #1f77b4\"/>\n   </g>\n   <g id=\"patch_29\">\n    <path d=\"M 284.894773 465.838125 \nL 293.011136 465.838125 \nL 293.011136 465.244867 \nL 284.894773 465.244867 \nz\n\" clip-path=\"url(#p06837b9d6f)\" style=\"fill: #1f77b4\"/>\n   </g>\n   <g id=\"patch_30\">\n    <path d=\"M 293.011136 465.838125 \nL 301.1275 465.838125 \nL 301.1275 465.838125 \nL 293.011136 465.838125 \nz\n\" clip-path=\"url(#p06837b9d6f)\" style=\"fill: #1f77b4\"/>\n   </g>\n   <g id=\"patch_31\">\n    <path d=\"M 301.1275 465.838125 \nL 309.243864 465.838125 \nL 309.243864 464.651608 \nL 301.1275 464.651608 \nz\n\" clip-path=\"url(#p06837b9d6f)\" style=\"fill: #1f77b4\"/>\n   </g>\n   <g id=\"patch_32\">\n    <path d=\"M 309.243864 465.838125 \nL 317.360227 465.838125 \nL 317.360227 464.05835 \nL 309.243864 464.05835 \nz\n\" clip-path=\"url(#p06837b9d6f)\" style=\"fill: #1f77b4\"/>\n   </g>\n   <g id=\"patch_33\">\n    <path d=\"M 317.360227 465.838125 \nL 325.476591 465.838125 \nL 325.476591 465.838125 \nL 317.360227 465.838125 \nz\n\" clip-path=\"url(#p06837b9d6f)\" style=\"fill: #1f77b4\"/>\n   </g>\n   <g id=\"patch_34\">\n    <path d=\"M 325.476591 465.838125 \nL 333.592955 465.838125 \nL 333.592955 465.838125 \nL 325.476591 465.838125 \nz\n\" clip-path=\"url(#p06837b9d6f)\" style=\"fill: #1f77b4\"/>\n   </g>\n   <g id=\"patch_35\">\n    <path d=\"M 333.592955 465.838125 \nL 341.709318 465.838125 \nL 341.709318 464.05835 \nL 333.592955 464.05835 \nz\n\" clip-path=\"url(#p06837b9d6f)\" style=\"fill: #1f77b4\"/>\n   </g>\n   <g id=\"patch_36\">\n    <path d=\"M 341.709318 465.838125 \nL 349.825682 465.838125 \nL 349.825682 465.244867 \nL 341.709318 465.244867 \nz\n\" clip-path=\"url(#p06837b9d6f)\" style=\"fill: #1f77b4\"/>\n   </g>\n   <g id=\"patch_37\">\n    <path d=\"M 349.825682 465.838125 \nL 357.942045 465.838125 \nL 357.942045 465.838125 \nL 349.825682 465.838125 \nz\n\" clip-path=\"url(#p06837b9d6f)\" style=\"fill: #1f77b4\"/>\n   </g>\n   <g id=\"patch_38\">\n    <path d=\"M 357.942045 465.838125 \nL 366.058409 465.838125 \nL 366.058409 465.838125 \nL 357.942045 465.838125 \nz\n\" clip-path=\"url(#p06837b9d6f)\" style=\"fill: #1f77b4\"/>\n   </g>\n   <g id=\"patch_39\">\n    <path d=\"M 366.058409 465.838125 \nL 374.174773 465.838125 \nL 374.174773 464.651608 \nL 366.058409 464.651608 \nz\n\" clip-path=\"url(#p06837b9d6f)\" style=\"fill: #1f77b4\"/>\n   </g>\n   <g id=\"patch_40\">\n    <path d=\"M 374.174773 465.838125 \nL 382.291136 465.838125 \nL 382.291136 465.244867 \nL 374.174773 465.244867 \nz\n\" clip-path=\"url(#p06837b9d6f)\" style=\"fill: #1f77b4\"/>\n   </g>\n   <g id=\"patch_41\">\n    <path d=\"M 382.291136 465.838125 \nL 390.4075 465.838125 \nL 390.4075 464.651608 \nL 382.291136 464.651608 \nz\n\" clip-path=\"url(#p06837b9d6f)\" style=\"fill: #1f77b4\"/>\n   </g>\n   <g id=\"patch_42\">\n    <path d=\"M 390.4075 465.838125 \nL 398.523864 465.838125 \nL 398.523864 465.838125 \nL 390.4075 465.838125 \nz\n\" clip-path=\"url(#p06837b9d6f)\" style=\"fill: #1f77b4\"/>\n   </g>\n   <g id=\"patch_43\">\n    <path d=\"M 398.523864 465.838125 \nL 406.640227 465.838125 \nL 406.640227 465.838125 \nL 398.523864 465.838125 \nz\n\" clip-path=\"url(#p06837b9d6f)\" style=\"fill: #1f77b4\"/>\n   </g>\n   <g id=\"patch_44\">\n    <path d=\"M 406.640227 465.838125 \nL 414.756591 465.838125 \nL 414.756591 465.838125 \nL 406.640227 465.838125 \nz\n\" clip-path=\"url(#p06837b9d6f)\" style=\"fill: #1f77b4\"/>\n   </g>\n   <g id=\"patch_45\">\n    <path d=\"M 414.756591 465.838125 \nL 422.872955 465.838125 \nL 422.872955 464.651608 \nL 414.756591 464.651608 \nz\n\" clip-path=\"url(#p06837b9d6f)\" style=\"fill: #1f77b4\"/>\n   </g>\n   <g id=\"patch_46\">\n    <path d=\"M 422.872955 465.838125 \nL 430.989318 465.838125 \nL 430.989318 465.838125 \nL 422.872955 465.838125 \nz\n\" clip-path=\"url(#p06837b9d6f)\" style=\"fill: #1f77b4\"/>\n   </g>\n   <g id=\"patch_47\">\n    <path d=\"M 430.989318 465.838125 \nL 439.105682 465.838125 \nL 439.105682 465.838125 \nL 430.989318 465.838125 \nz\n\" clip-path=\"url(#p06837b9d6f)\" style=\"fill: #1f77b4\"/>\n   </g>\n   <g id=\"patch_48\">\n    <path d=\"M 439.105682 465.838125 \nL 447.222045 465.838125 \nL 447.222045 465.838125 \nL 439.105682 465.838125 \nz\n\" clip-path=\"url(#p06837b9d6f)\" style=\"fill: #1f77b4\"/>\n   </g>\n   <g id=\"patch_49\">\n    <path d=\"M 447.222045 465.838125 \nL 455.338409 465.838125 \nL 455.338409 465.838125 \nL 447.222045 465.838125 \nz\n\" clip-path=\"url(#p06837b9d6f)\" style=\"fill: #1f77b4\"/>\n   </g>\n   <g id=\"patch_50\">\n    <path d=\"M 455.338409 465.838125 \nL 463.454773 465.838125 \nL 463.454773 465.838125 \nL 455.338409 465.838125 \nz\n\" clip-path=\"url(#p06837b9d6f)\" style=\"fill: #1f77b4\"/>\n   </g>\n   <g id=\"patch_51\">\n    <path d=\"M 463.454773 465.838125 \nL 471.571136 465.838125 \nL 471.571136 465.244867 \nL 463.454773 465.244867 \nz\n\" clip-path=\"url(#p06837b9d6f)\" style=\"fill: #1f77b4\"/>\n   </g>\n   <g id=\"patch_52\">\n    <path d=\"M 471.571136 465.838125 \nL 479.6875 465.838125 \nL 479.6875 465.838125 \nL 471.571136 465.838125 \nz\n\" clip-path=\"url(#p06837b9d6f)\" style=\"fill: #1f77b4\"/>\n   </g>\n   <g id=\"patch_53\">\n    <path d=\"M 479.6875 465.838125 \nL 487.803864 465.838125 \nL 487.803864 465.838125 \nL 479.6875 465.838125 \nz\n\" clip-path=\"url(#p06837b9d6f)\" style=\"fill: #1f77b4\"/>\n   </g>\n   <g id=\"patch_54\">\n    <path d=\"M 487.803864 465.838125 \nL 495.920227 465.838125 \nL 495.920227 465.838125 \nL 487.803864 465.838125 \nz\n\" clip-path=\"url(#p06837b9d6f)\" style=\"fill: #1f77b4\"/>\n   </g>\n   <g id=\"patch_55\">\n    <path d=\"M 495.920227 465.838125 \nL 504.036591 465.838125 \nL 504.036591 465.838125 \nL 495.920227 465.838125 \nz\n\" clip-path=\"url(#p06837b9d6f)\" style=\"fill: #1f77b4\"/>\n   </g>\n   <g id=\"patch_56\">\n    <path d=\"M 504.036591 465.838125 \nL 512.152955 465.838125 \nL 512.152955 465.244867 \nL 504.036591 465.244867 \nz\n\" clip-path=\"url(#p06837b9d6f)\" style=\"fill: #1f77b4\"/>\n   </g>\n   <g id=\"patch_57\">\n    <path d=\"M 512.152955 465.838125 \nL 520.269318 465.838125 \nL 520.269318 465.838125 \nL 512.152955 465.838125 \nz\n\" clip-path=\"url(#p06837b9d6f)\" style=\"fill: #1f77b4\"/>\n   </g>\n   <g id=\"patch_58\">\n    <path d=\"M 520.269318 465.838125 \nL 528.385682 465.838125 \nL 528.385682 465.838125 \nL 520.269318 465.838125 \nz\n\" clip-path=\"url(#p06837b9d6f)\" style=\"fill: #1f77b4\"/>\n   </g>\n   <g id=\"patch_59\">\n    <path d=\"M 528.385682 465.838125 \nL 536.502045 465.838125 \nL 536.502045 465.838125 \nL 528.385682 465.838125 \nz\n\" clip-path=\"url(#p06837b9d6f)\" style=\"fill: #1f77b4\"/>\n   </g>\n   <g id=\"patch_60\">\n    <path d=\"M 536.502045 465.838125 \nL 544.618409 465.838125 \nL 544.618409 465.838125 \nL 536.502045 465.838125 \nz\n\" clip-path=\"url(#p06837b9d6f)\" style=\"fill: #1f77b4\"/>\n   </g>\n   <g id=\"patch_61\">\n    <path d=\"M 544.618409 465.838125 \nL 552.734773 465.838125 \nL 552.734773 465.244867 \nL 544.618409 465.244867 \nz\n\" clip-path=\"url(#p06837b9d6f)\" style=\"fill: #1f77b4\"/>\n   </g>\n   <g id=\"patch_62\">\n    <path d=\"M 552.734773 465.838125 \nL 560.851136 465.838125 \nL 560.851136 465.838125 \nL 552.734773 465.838125 \nz\n\" clip-path=\"url(#p06837b9d6f)\" style=\"fill: #1f77b4\"/>\n   </g>\n   <g id=\"patch_63\">\n    <path d=\"M 560.851136 465.838125 \nL 568.9675 465.838125 \nL 568.9675 465.838125 \nL 560.851136 465.838125 \nz\n\" clip-path=\"url(#p06837b9d6f)\" style=\"fill: #1f77b4\"/>\n   </g>\n   <g id=\"patch_64\">\n    <path d=\"M 568.9675 465.838125 \nL 577.083864 465.838125 \nL 577.083864 465.838125 \nL 568.9675 465.838125 \nz\n\" clip-path=\"url(#p06837b9d6f)\" style=\"fill: #1f77b4\"/>\n   </g>\n   <g id=\"patch_65\">\n    <path d=\"M 577.083864 465.838125 \nL 585.200227 465.838125 \nL 585.200227 465.838125 \nL 577.083864 465.838125 \nz\n\" clip-path=\"url(#p06837b9d6f)\" style=\"fill: #1f77b4\"/>\n   </g>\n   <g id=\"patch_66\">\n    <path d=\"M 585.200227 465.838125 \nL 593.316591 465.838125 \nL 593.316591 465.838125 \nL 585.200227 465.838125 \nz\n\" clip-path=\"url(#p06837b9d6f)\" style=\"fill: #1f77b4\"/>\n   </g>\n   <g id=\"patch_67\">\n    <path d=\"M 593.316591 465.838125 \nL 601.432955 465.838125 \nL 601.432955 465.244867 \nL 593.316591 465.244867 \nz\n\" clip-path=\"url(#p06837b9d6f)\" style=\"fill: #1f77b4\"/>\n   </g>\n   <g id=\"patch_68\">\n    <path d=\"M 601.432955 465.838125 \nL 609.549318 465.838125 \nL 609.549318 465.838125 \nL 601.432955 465.838125 \nz\n\" clip-path=\"url(#p06837b9d6f)\" style=\"fill: #1f77b4\"/>\n   </g>\n   <g id=\"patch_69\">\n    <path d=\"M 609.549318 465.838125 \nL 617.665682 465.838125 \nL 617.665682 465.838125 \nL 609.549318 465.838125 \nz\n\" clip-path=\"url(#p06837b9d6f)\" style=\"fill: #1f77b4\"/>\n   </g>\n   <g id=\"patch_70\">\n    <path d=\"M 617.665682 465.838125 \nL 625.782045 465.838125 \nL 625.782045 465.838125 \nL 617.665682 465.838125 \nz\n\" clip-path=\"url(#p06837b9d6f)\" style=\"fill: #1f77b4\"/>\n   </g>\n   <g id=\"patch_71\">\n    <path d=\"M 625.782045 465.838125 \nL 633.898409 465.838125 \nL 633.898409 465.838125 \nL 625.782045 465.838125 \nz\n\" clip-path=\"url(#p06837b9d6f)\" style=\"fill: #1f77b4\"/>\n   </g>\n   <g id=\"patch_72\">\n    <path d=\"M 633.898409 465.838125 \nL 642.014773 465.838125 \nL 642.014773 465.838125 \nL 633.898409 465.838125 \nz\n\" clip-path=\"url(#p06837b9d6f)\" style=\"fill: #1f77b4\"/>\n   </g>\n   <g id=\"patch_73\">\n    <path d=\"M 642.014773 465.838125 \nL 650.131136 465.838125 \nL 650.131136 465.244867 \nL 642.014773 465.244867 \nz\n\" clip-path=\"url(#p06837b9d6f)\" style=\"fill: #1f77b4\"/>\n   </g>\n   <g id=\"patch_74\">\n    <path d=\"M 650.131136 465.838125 \nL 658.2475 465.838125 \nL 658.2475 465.838125 \nL 650.131136 465.838125 \nz\n\" clip-path=\"url(#p06837b9d6f)\" style=\"fill: #1f77b4\"/>\n   </g>\n   <g id=\"patch_75\">\n    <path d=\"M 658.2475 465.838125 \nL 666.363864 465.838125 \nL 666.363864 465.838125 \nL 658.2475 465.838125 \nz\n\" clip-path=\"url(#p06837b9d6f)\" style=\"fill: #1f77b4\"/>\n   </g>\n   <g id=\"patch_76\">\n    <path d=\"M 666.363864 465.838125 \nL 674.480227 465.838125 \nL 674.480227 465.838125 \nL 666.363864 465.838125 \nz\n\" clip-path=\"url(#p06837b9d6f)\" style=\"fill: #1f77b4\"/>\n   </g>\n   <g id=\"patch_77\">\n    <path d=\"M 674.480227 465.838125 \nL 682.596591 465.838125 \nL 682.596591 465.838125 \nL 674.480227 465.838125 \nz\n\" clip-path=\"url(#p06837b9d6f)\" style=\"fill: #1f77b4\"/>\n   </g>\n   <g id=\"patch_78\">\n    <path d=\"M 682.596591 465.838125 \nL 690.712955 465.838125 \nL 690.712955 465.838125 \nL 682.596591 465.838125 \nz\n\" clip-path=\"url(#p06837b9d6f)\" style=\"fill: #1f77b4\"/>\n   </g>\n   <g id=\"patch_79\">\n    <path d=\"M 690.712955 465.838125 \nL 698.829318 465.838125 \nL 698.829318 465.838125 \nL 690.712955 465.838125 \nz\n\" clip-path=\"url(#p06837b9d6f)\" style=\"fill: #1f77b4\"/>\n   </g>\n   <g id=\"patch_80\">\n    <path d=\"M 698.829318 465.838125 \nL 706.945682 465.838125 \nL 706.945682 465.838125 \nL 698.829318 465.838125 \nz\n\" clip-path=\"url(#p06837b9d6f)\" style=\"fill: #1f77b4\"/>\n   </g>\n   <g id=\"patch_81\">\n    <path d=\"M 706.945682 465.838125 \nL 715.062045 465.838125 \nL 715.062045 465.838125 \nL 706.945682 465.838125 \nz\n\" clip-path=\"url(#p06837b9d6f)\" style=\"fill: #1f77b4\"/>\n   </g>\n   <g id=\"patch_82\">\n    <path d=\"M 715.062045 465.838125 \nL 723.178409 465.838125 \nL 723.178409 465.838125 \nL 715.062045 465.838125 \nz\n\" clip-path=\"url(#p06837b9d6f)\" style=\"fill: #1f77b4\"/>\n   </g>\n   <g id=\"patch_83\">\n    <path d=\"M 723.178409 465.838125 \nL 731.294773 465.838125 \nL 731.294773 465.838125 \nL 723.178409 465.838125 \nz\n\" clip-path=\"url(#p06837b9d6f)\" style=\"fill: #1f77b4\"/>\n   </g>\n   <g id=\"patch_84\">\n    <path d=\"M 731.294773 465.838125 \nL 739.411136 465.838125 \nL 739.411136 465.838125 \nL 731.294773 465.838125 \nz\n\" clip-path=\"url(#p06837b9d6f)\" style=\"fill: #1f77b4\"/>\n   </g>\n   <g id=\"patch_85\">\n    <path d=\"M 739.411136 465.838125 \nL 747.5275 465.838125 \nL 747.5275 465.838125 \nL 739.411136 465.838125 \nz\n\" clip-path=\"url(#p06837b9d6f)\" style=\"fill: #1f77b4\"/>\n   </g>\n   <g id=\"patch_86\">\n    <path d=\"M 747.5275 465.838125 \nL 755.643864 465.838125 \nL 755.643864 465.838125 \nL 747.5275 465.838125 \nz\n\" clip-path=\"url(#p06837b9d6f)\" style=\"fill: #1f77b4\"/>\n   </g>\n   <g id=\"patch_87\">\n    <path d=\"M 755.643864 465.838125 \nL 763.760227 465.838125 \nL 763.760227 465.838125 \nL 755.643864 465.838125 \nz\n\" clip-path=\"url(#p06837b9d6f)\" style=\"fill: #1f77b4\"/>\n   </g>\n   <g id=\"patch_88\">\n    <path d=\"M 763.760227 465.838125 \nL 771.876591 465.838125 \nL 771.876591 465.838125 \nL 763.760227 465.838125 \nz\n\" clip-path=\"url(#p06837b9d6f)\" style=\"fill: #1f77b4\"/>\n   </g>\n   <g id=\"patch_89\">\n    <path d=\"M 771.876591 465.838125 \nL 779.992955 465.838125 \nL 779.992955 465.838125 \nL 771.876591 465.838125 \nz\n\" clip-path=\"url(#p06837b9d6f)\" style=\"fill: #1f77b4\"/>\n   </g>\n   <g id=\"patch_90\">\n    <path d=\"M 779.992955 465.838125 \nL 788.109318 465.838125 \nL 788.109318 465.838125 \nL 779.992955 465.838125 \nz\n\" clip-path=\"url(#p06837b9d6f)\" style=\"fill: #1f77b4\"/>\n   </g>\n   <g id=\"patch_91\">\n    <path d=\"M 788.109318 465.838125 \nL 796.225682 465.838125 \nL 796.225682 465.838125 \nL 788.109318 465.838125 \nz\n\" clip-path=\"url(#p06837b9d6f)\" style=\"fill: #1f77b4\"/>\n   </g>\n   <g id=\"patch_92\">\n    <path d=\"M 796.225682 465.838125 \nL 804.342045 465.838125 \nL 804.342045 465.838125 \nL 796.225682 465.838125 \nz\n\" clip-path=\"url(#p06837b9d6f)\" style=\"fill: #1f77b4\"/>\n   </g>\n   <g id=\"patch_93\">\n    <path d=\"M 804.342045 465.838125 \nL 812.458409 465.838125 \nL 812.458409 465.838125 \nL 804.342045 465.838125 \nz\n\" clip-path=\"url(#p06837b9d6f)\" style=\"fill: #1f77b4\"/>\n   </g>\n   <g id=\"patch_94\">\n    <path d=\"M 812.458409 465.838125 \nL 820.574773 465.838125 \nL 820.574773 465.838125 \nL 812.458409 465.838125 \nz\n\" clip-path=\"url(#p06837b9d6f)\" style=\"fill: #1f77b4\"/>\n   </g>\n   <g id=\"patch_95\">\n    <path d=\"M 820.574773 465.838125 \nL 828.691136 465.838125 \nL 828.691136 465.838125 \nL 820.574773 465.838125 \nz\n\" clip-path=\"url(#p06837b9d6f)\" style=\"fill: #1f77b4\"/>\n   </g>\n   <g id=\"patch_96\">\n    <path d=\"M 828.691136 465.838125 \nL 836.8075 465.838125 \nL 836.8075 465.838125 \nL 828.691136 465.838125 \nz\n\" clip-path=\"url(#p06837b9d6f)\" style=\"fill: #1f77b4\"/>\n   </g>\n   <g id=\"patch_97\">\n    <path d=\"M 836.8075 465.838125 \nL 844.923864 465.838125 \nL 844.923864 465.838125 \nL 836.8075 465.838125 \nz\n\" clip-path=\"url(#p06837b9d6f)\" style=\"fill: #1f77b4\"/>\n   </g>\n   <g id=\"patch_98\">\n    <path d=\"M 844.923864 465.838125 \nL 853.040227 465.838125 \nL 853.040227 465.838125 \nL 844.923864 465.838125 \nz\n\" clip-path=\"url(#p06837b9d6f)\" style=\"fill: #1f77b4\"/>\n   </g>\n   <g id=\"patch_99\">\n    <path d=\"M 853.040227 465.838125 \nL 861.156591 465.838125 \nL 861.156591 465.838125 \nL 853.040227 465.838125 \nz\n\" clip-path=\"url(#p06837b9d6f)\" style=\"fill: #1f77b4\"/>\n   </g>\n   <g id=\"patch_100\">\n    <path d=\"M 861.156591 465.838125 \nL 869.272955 465.838125 \nL 869.272955 465.838125 \nL 861.156591 465.838125 \nz\n\" clip-path=\"url(#p06837b9d6f)\" style=\"fill: #1f77b4\"/>\n   </g>\n   <g id=\"patch_101\">\n    <path d=\"M 869.272955 465.838125 \nL 877.389318 465.838125 \nL 877.389318 465.838125 \nL 869.272955 465.838125 \nz\n\" clip-path=\"url(#p06837b9d6f)\" style=\"fill: #1f77b4\"/>\n   </g>\n   <g id=\"patch_102\">\n    <path d=\"M 877.389318 465.838125 \nL 885.505682 465.838125 \nL 885.505682 465.244867 \nL 877.389318 465.244867 \nz\n\" clip-path=\"url(#p06837b9d6f)\" style=\"fill: #1f77b4\"/>\n   </g>\n   <g id=\"matplotlib.axis_1\">\n    <g id=\"xtick_1\">\n     <g id=\"line2d_1\">\n      <path d=\"M 63.0475 465.838125 \nL 63.0475 22.318125 \n\" clip-path=\"url(#p06837b9d6f)\" style=\"fill: none; stroke: #b0b0b0; stroke-width: 0.8; stroke-linecap: square\"/>\n     </g>\n     <g id=\"line2d_2\">\n      <defs>\n       <path id=\"mb1bdcfbb13\" d=\"M 0 0 \nL 0 3.5 \n\" style=\"stroke: #000000; stroke-width: 0.8\"/>\n      </defs>\n      <g>\n       <use xlink:href=\"#mb1bdcfbb13\" x=\"63.0475\" y=\"465.838125\" style=\"stroke: #000000; stroke-width: 0.8\"/>\n      </g>\n     </g>\n     <g id=\"text_1\">\n      <!-- 0 -->\n      <g transform=\"translate(59.86625 480.436562) scale(0.1 -0.1)\">\n       <defs>\n        <path id=\"DejaVuSans-30\" d=\"M 2034 4250 \nQ 1547 4250 1301 3770 \nQ 1056 3291 1056 2328 \nQ 1056 1369 1301 889 \nQ 1547 409 2034 409 \nQ 2525 409 2770 889 \nQ 3016 1369 3016 2328 \nQ 3016 3291 2770 3770 \nQ 2525 4250 2034 4250 \nz\nM 2034 4750 \nQ 2819 4750 3233 4129 \nQ 3647 3509 3647 2328 \nQ 3647 1150 3233 529 \nQ 2819 -91 2034 -91 \nQ 1250 -91 836 529 \nQ 422 1150 422 2328 \nQ 422 3509 836 4129 \nQ 1250 4750 2034 4750 \nz\n\" transform=\"scale(0.015625)\"/>\n       </defs>\n       <use xlink:href=\"#DejaVuSans-30\"/>\n      </g>\n     </g>\n    </g>\n    <g id=\"xtick_2\">\n     <g id=\"line2d_3\">\n      <path d=\"M 171.265682 465.838125 \nL 171.265682 22.318125 \n\" clip-path=\"url(#p06837b9d6f)\" style=\"fill: none; stroke: #b0b0b0; stroke-width: 0.8; stroke-linecap: square\"/>\n     </g>\n     <g id=\"line2d_4\">\n      <g>\n       <use xlink:href=\"#mb1bdcfbb13\" x=\"171.265682\" y=\"465.838125\" style=\"stroke: #000000; stroke-width: 0.8\"/>\n      </g>\n     </g>\n     <g id=\"text_2\">\n      <!-- 10 -->\n      <g transform=\"translate(164.903182 480.436562) scale(0.1 -0.1)\">\n       <defs>\n        <path id=\"DejaVuSans-31\" d=\"M 794 531 \nL 1825 531 \nL 1825 4091 \nL 703 3866 \nL 703 4441 \nL 1819 4666 \nL 2450 4666 \nL 2450 531 \nL 3481 531 \nL 3481 0 \nL 794 0 \nL 794 531 \nz\n\" transform=\"scale(0.015625)\"/>\n       </defs>\n       <use xlink:href=\"#DejaVuSans-31\"/>\n       <use xlink:href=\"#DejaVuSans-30\" x=\"63.623047\"/>\n      </g>\n     </g>\n    </g>\n    <g id=\"xtick_3\">\n     <g id=\"line2d_5\">\n      <path d=\"M 279.483864 465.838125 \nL 279.483864 22.318125 \n\" clip-path=\"url(#p06837b9d6f)\" style=\"fill: none; stroke: #b0b0b0; stroke-width: 0.8; stroke-linecap: square\"/>\n     </g>\n     <g id=\"line2d_6\">\n      <g>\n       <use xlink:href=\"#mb1bdcfbb13\" x=\"279.483864\" y=\"465.838125\" style=\"stroke: #000000; stroke-width: 0.8\"/>\n      </g>\n     </g>\n     <g id=\"text_3\">\n      <!-- 20 -->\n      <g transform=\"translate(273.121364 480.436562) scale(0.1 -0.1)\">\n       <defs>\n        <path id=\"DejaVuSans-32\" d=\"M 1228 531 \nL 3431 531 \nL 3431 0 \nL 469 0 \nL 469 531 \nQ 828 903 1448 1529 \nQ 2069 2156 2228 2338 \nQ 2531 2678 2651 2914 \nQ 2772 3150 2772 3378 \nQ 2772 3750 2511 3984 \nQ 2250 4219 1831 4219 \nQ 1534 4219 1204 4116 \nQ 875 4013 500 3803 \nL 500 4441 \nQ 881 4594 1212 4672 \nQ 1544 4750 1819 4750 \nQ 2544 4750 2975 4387 \nQ 3406 4025 3406 3419 \nQ 3406 3131 3298 2873 \nQ 3191 2616 2906 2266 \nQ 2828 2175 2409 1742 \nQ 1991 1309 1228 531 \nz\n\" transform=\"scale(0.015625)\"/>\n       </defs>\n       <use xlink:href=\"#DejaVuSans-32\"/>\n       <use xlink:href=\"#DejaVuSans-30\" x=\"63.623047\"/>\n      </g>\n     </g>\n    </g>\n    <g id=\"xtick_4\">\n     <g id=\"line2d_7\">\n      <path d=\"M 387.702045 465.838125 \nL 387.702045 22.318125 \n\" clip-path=\"url(#p06837b9d6f)\" style=\"fill: none; stroke: #b0b0b0; stroke-width: 0.8; stroke-linecap: square\"/>\n     </g>\n     <g id=\"line2d_8\">\n      <g>\n       <use xlink:href=\"#mb1bdcfbb13\" x=\"387.702045\" y=\"465.838125\" style=\"stroke: #000000; stroke-width: 0.8\"/>\n      </g>\n     </g>\n     <g id=\"text_4\">\n      <!-- 30 -->\n      <g transform=\"translate(381.339545 480.436562) scale(0.1 -0.1)\">\n       <defs>\n        <path id=\"DejaVuSans-33\" d=\"M 2597 2516 \nQ 3050 2419 3304 2112 \nQ 3559 1806 3559 1356 \nQ 3559 666 3084 287 \nQ 2609 -91 1734 -91 \nQ 1441 -91 1130 -33 \nQ 819 25 488 141 \nL 488 750 \nQ 750 597 1062 519 \nQ 1375 441 1716 441 \nQ 2309 441 2620 675 \nQ 2931 909 2931 1356 \nQ 2931 1769 2642 2001 \nQ 2353 2234 1838 2234 \nL 1294 2234 \nL 1294 2753 \nL 1863 2753 \nQ 2328 2753 2575 2939 \nQ 2822 3125 2822 3475 \nQ 2822 3834 2567 4026 \nQ 2313 4219 1838 4219 \nQ 1578 4219 1281 4162 \nQ 984 4106 628 3988 \nL 628 4550 \nQ 988 4650 1302 4700 \nQ 1616 4750 1894 4750 \nQ 2613 4750 3031 4423 \nQ 3450 4097 3450 3541 \nQ 3450 3153 3228 2886 \nQ 3006 2619 2597 2516 \nz\n\" transform=\"scale(0.015625)\"/>\n       </defs>\n       <use xlink:href=\"#DejaVuSans-33\"/>\n       <use xlink:href=\"#DejaVuSans-30\" x=\"63.623047\"/>\n      </g>\n     </g>\n    </g>\n    <g id=\"xtick_5\">\n     <g id=\"line2d_9\">\n      <path d=\"M 495.920227 465.838125 \nL 495.920227 22.318125 \n\" clip-path=\"url(#p06837b9d6f)\" style=\"fill: none; stroke: #b0b0b0; stroke-width: 0.8; stroke-linecap: square\"/>\n     </g>\n     <g id=\"line2d_10\">\n      <g>\n       <use xlink:href=\"#mb1bdcfbb13\" x=\"495.920227\" y=\"465.838125\" style=\"stroke: #000000; stroke-width: 0.8\"/>\n      </g>\n     </g>\n     <g id=\"text_5\">\n      <!-- 40 -->\n      <g transform=\"translate(489.557727 480.436562) scale(0.1 -0.1)\">\n       <defs>\n        <path id=\"DejaVuSans-34\" d=\"M 2419 4116 \nL 825 1625 \nL 2419 1625 \nL 2419 4116 \nz\nM 2253 4666 \nL 3047 4666 \nL 3047 1625 \nL 3713 1625 \nL 3713 1100 \nL 3047 1100 \nL 3047 0 \nL 2419 0 \nL 2419 1100 \nL 313 1100 \nL 313 1709 \nL 2253 4666 \nz\n\" transform=\"scale(0.015625)\"/>\n       </defs>\n       <use xlink:href=\"#DejaVuSans-34\"/>\n       <use xlink:href=\"#DejaVuSans-30\" x=\"63.623047\"/>\n      </g>\n     </g>\n    </g>\n    <g id=\"xtick_6\">\n     <g id=\"line2d_11\">\n      <path d=\"M 604.138409 465.838125 \nL 604.138409 22.318125 \n\" clip-path=\"url(#p06837b9d6f)\" style=\"fill: none; stroke: #b0b0b0; stroke-width: 0.8; stroke-linecap: square\"/>\n     </g>\n     <g id=\"line2d_12\">\n      <g>\n       <use xlink:href=\"#mb1bdcfbb13\" x=\"604.138409\" y=\"465.838125\" style=\"stroke: #000000; stroke-width: 0.8\"/>\n      </g>\n     </g>\n     <g id=\"text_6\">\n      <!-- 50 -->\n      <g transform=\"translate(597.775909 480.436562) scale(0.1 -0.1)\">\n       <defs>\n        <path id=\"DejaVuSans-35\" d=\"M 691 4666 \nL 3169 4666 \nL 3169 4134 \nL 1269 4134 \nL 1269 2991 \nQ 1406 3038 1543 3061 \nQ 1681 3084 1819 3084 \nQ 2600 3084 3056 2656 \nQ 3513 2228 3513 1497 \nQ 3513 744 3044 326 \nQ 2575 -91 1722 -91 \nQ 1428 -91 1123 -41 \nQ 819 9 494 109 \nL 494 744 \nQ 775 591 1075 516 \nQ 1375 441 1709 441 \nQ 2250 441 2565 725 \nQ 2881 1009 2881 1497 \nQ 2881 1984 2565 2268 \nQ 2250 2553 1709 2553 \nQ 1456 2553 1204 2497 \nQ 953 2441 691 2322 \nL 691 4666 \nz\n\" transform=\"scale(0.015625)\"/>\n       </defs>\n       <use xlink:href=\"#DejaVuSans-35\"/>\n       <use xlink:href=\"#DejaVuSans-30\" x=\"63.623047\"/>\n      </g>\n     </g>\n    </g>\n    <g id=\"xtick_7\">\n     <g id=\"line2d_13\">\n      <path d=\"M 712.356591 465.838125 \nL 712.356591 22.318125 \n\" clip-path=\"url(#p06837b9d6f)\" style=\"fill: none; stroke: #b0b0b0; stroke-width: 0.8; stroke-linecap: square\"/>\n     </g>\n     <g id=\"line2d_14\">\n      <g>\n       <use xlink:href=\"#mb1bdcfbb13\" x=\"712.356591\" y=\"465.838125\" style=\"stroke: #000000; stroke-width: 0.8\"/>\n      </g>\n     </g>\n     <g id=\"text_7\">\n      <!-- 60 -->\n      <g transform=\"translate(705.994091 480.436562) scale(0.1 -0.1)\">\n       <defs>\n        <path id=\"DejaVuSans-36\" d=\"M 2113 2584 \nQ 1688 2584 1439 2293 \nQ 1191 2003 1191 1497 \nQ 1191 994 1439 701 \nQ 1688 409 2113 409 \nQ 2538 409 2786 701 \nQ 3034 994 3034 1497 \nQ 3034 2003 2786 2293 \nQ 2538 2584 2113 2584 \nz\nM 3366 4563 \nL 3366 3988 \nQ 3128 4100 2886 4159 \nQ 2644 4219 2406 4219 \nQ 1781 4219 1451 3797 \nQ 1122 3375 1075 2522 \nQ 1259 2794 1537 2939 \nQ 1816 3084 2150 3084 \nQ 2853 3084 3261 2657 \nQ 3669 2231 3669 1497 \nQ 3669 778 3244 343 \nQ 2819 -91 2113 -91 \nQ 1303 -91 875 529 \nQ 447 1150 447 2328 \nQ 447 3434 972 4092 \nQ 1497 4750 2381 4750 \nQ 2619 4750 2861 4703 \nQ 3103 4656 3366 4563 \nz\n\" transform=\"scale(0.015625)\"/>\n       </defs>\n       <use xlink:href=\"#DejaVuSans-36\"/>\n       <use xlink:href=\"#DejaVuSans-30\" x=\"63.623047\"/>\n      </g>\n     </g>\n    </g>\n    <g id=\"xtick_8\">\n     <g id=\"line2d_15\">\n      <path d=\"M 820.574773 465.838125 \nL 820.574773 22.318125 \n\" clip-path=\"url(#p06837b9d6f)\" style=\"fill: none; stroke: #b0b0b0; stroke-width: 0.8; stroke-linecap: square\"/>\n     </g>\n     <g id=\"line2d_16\">\n      <g>\n       <use xlink:href=\"#mb1bdcfbb13\" x=\"820.574773\" y=\"465.838125\" style=\"stroke: #000000; stroke-width: 0.8\"/>\n      </g>\n     </g>\n     <g id=\"text_8\">\n      <!-- 70 -->\n      <g transform=\"translate(814.212273 480.436562) scale(0.1 -0.1)\">\n       <defs>\n        <path id=\"DejaVuSans-37\" d=\"M 525 4666 \nL 3525 4666 \nL 3525 4397 \nL 1831 0 \nL 1172 0 \nL 2766 4134 \nL 525 4134 \nL 525 4666 \nz\n\" transform=\"scale(0.015625)\"/>\n       </defs>\n       <use xlink:href=\"#DejaVuSans-37\"/>\n       <use xlink:href=\"#DejaVuSans-30\" x=\"63.623047\"/>\n      </g>\n     </g>\n    </g>\n   </g>\n   <g id=\"matplotlib.axis_2\">\n    <g id=\"ytick_1\">\n     <g id=\"line2d_17\">\n      <path d=\"M 33.2875 465.838125 \nL 926.0875 465.838125 \n\" clip-path=\"url(#p06837b9d6f)\" style=\"fill: none; stroke: #b0b0b0; stroke-width: 0.8; stroke-linecap: square\"/>\n     </g>\n     <g id=\"line2d_18\">\n      <defs>\n       <path id=\"m6932c3b6b4\" d=\"M 0 0 \nL -3.5 0 \n\" style=\"stroke: #000000; stroke-width: 0.8\"/>\n      </defs>\n      <g>\n       <use xlink:href=\"#m6932c3b6b4\" x=\"33.2875\" y=\"465.838125\" style=\"stroke: #000000; stroke-width: 0.8\"/>\n      </g>\n     </g>\n     <g id=\"text_9\">\n      <!-- 0 -->\n      <g transform=\"translate(19.925 469.637344) scale(0.1 -0.1)\">\n       <use xlink:href=\"#DejaVuSans-30\"/>\n      </g>\n     </g>\n    </g>\n    <g id=\"ytick_2\">\n     <g id=\"line2d_19\">\n      <path d=\"M 33.2875 406.512282 \nL 926.0875 406.512282 \n\" clip-path=\"url(#p06837b9d6f)\" style=\"fill: none; stroke: #b0b0b0; stroke-width: 0.8; stroke-linecap: square\"/>\n     </g>\n     <g id=\"line2d_20\">\n      <g>\n       <use xlink:href=\"#m6932c3b6b4\" x=\"33.2875\" y=\"406.512282\" style=\"stroke: #000000; stroke-width: 0.8\"/>\n      </g>\n     </g>\n     <g id=\"text_10\">\n      <!-- 100 -->\n      <g transform=\"translate(7.2 410.311501) scale(0.1 -0.1)\">\n       <use xlink:href=\"#DejaVuSans-31\"/>\n       <use xlink:href=\"#DejaVuSans-30\" x=\"63.623047\"/>\n       <use xlink:href=\"#DejaVuSans-30\" x=\"127.246094\"/>\n      </g>\n     </g>\n    </g>\n    <g id=\"ytick_3\">\n     <g id=\"line2d_21\">\n      <path d=\"M 33.2875 347.18644 \nL 926.0875 347.18644 \n\" clip-path=\"url(#p06837b9d6f)\" style=\"fill: none; stroke: #b0b0b0; stroke-width: 0.8; stroke-linecap: square\"/>\n     </g>\n     <g id=\"line2d_22\">\n      <g>\n       <use xlink:href=\"#m6932c3b6b4\" x=\"33.2875\" y=\"347.18644\" style=\"stroke: #000000; stroke-width: 0.8\"/>\n      </g>\n     </g>\n     <g id=\"text_11\">\n      <!-- 200 -->\n      <g transform=\"translate(7.2 350.985658) scale(0.1 -0.1)\">\n       <use xlink:href=\"#DejaVuSans-32\"/>\n       <use xlink:href=\"#DejaVuSans-30\" x=\"63.623047\"/>\n       <use xlink:href=\"#DejaVuSans-30\" x=\"127.246094\"/>\n      </g>\n     </g>\n    </g>\n    <g id=\"ytick_4\">\n     <g id=\"line2d_23\">\n      <path d=\"M 33.2875 287.860597 \nL 926.0875 287.860597 \n\" clip-path=\"url(#p06837b9d6f)\" style=\"fill: none; stroke: #b0b0b0; stroke-width: 0.8; stroke-linecap: square\"/>\n     </g>\n     <g id=\"line2d_24\">\n      <g>\n       <use xlink:href=\"#m6932c3b6b4\" x=\"33.2875\" y=\"287.860597\" style=\"stroke: #000000; stroke-width: 0.8\"/>\n      </g>\n     </g>\n     <g id=\"text_12\">\n      <!-- 300 -->\n      <g transform=\"translate(7.2 291.659816) scale(0.1 -0.1)\">\n       <use xlink:href=\"#DejaVuSans-33\"/>\n       <use xlink:href=\"#DejaVuSans-30\" x=\"63.623047\"/>\n       <use xlink:href=\"#DejaVuSans-30\" x=\"127.246094\"/>\n      </g>\n     </g>\n    </g>\n    <g id=\"ytick_5\">\n     <g id=\"line2d_25\">\n      <path d=\"M 33.2875 228.534754 \nL 926.0875 228.534754 \n\" clip-path=\"url(#p06837b9d6f)\" style=\"fill: none; stroke: #b0b0b0; stroke-width: 0.8; stroke-linecap: square\"/>\n     </g>\n     <g id=\"line2d_26\">\n      <g>\n       <use xlink:href=\"#m6932c3b6b4\" x=\"33.2875\" y=\"228.534754\" style=\"stroke: #000000; stroke-width: 0.8\"/>\n      </g>\n     </g>\n     <g id=\"text_13\">\n      <!-- 400 -->\n      <g transform=\"translate(7.2 232.333973) scale(0.1 -0.1)\">\n       <use xlink:href=\"#DejaVuSans-34\"/>\n       <use xlink:href=\"#DejaVuSans-30\" x=\"63.623047\"/>\n       <use xlink:href=\"#DejaVuSans-30\" x=\"127.246094\"/>\n      </g>\n     </g>\n    </g>\n    <g id=\"ytick_6\">\n     <g id=\"line2d_27\">\n      <path d=\"M 33.2875 169.208912 \nL 926.0875 169.208912 \n\" clip-path=\"url(#p06837b9d6f)\" style=\"fill: none; stroke: #b0b0b0; stroke-width: 0.8; stroke-linecap: square\"/>\n     </g>\n     <g id=\"line2d_28\">\n      <g>\n       <use xlink:href=\"#m6932c3b6b4\" x=\"33.2875\" y=\"169.208912\" style=\"stroke: #000000; stroke-width: 0.8\"/>\n      </g>\n     </g>\n     <g id=\"text_14\">\n      <!-- 500 -->\n      <g transform=\"translate(7.2 173.00813) scale(0.1 -0.1)\">\n       <use xlink:href=\"#DejaVuSans-35\"/>\n       <use xlink:href=\"#DejaVuSans-30\" x=\"63.623047\"/>\n       <use xlink:href=\"#DejaVuSans-30\" x=\"127.246094\"/>\n      </g>\n     </g>\n    </g>\n    <g id=\"ytick_7\">\n     <g id=\"line2d_29\">\n      <path d=\"M 33.2875 109.883069 \nL 926.0875 109.883069 \n\" clip-path=\"url(#p06837b9d6f)\" style=\"fill: none; stroke: #b0b0b0; stroke-width: 0.8; stroke-linecap: square\"/>\n     </g>\n     <g id=\"line2d_30\">\n      <g>\n       <use xlink:href=\"#m6932c3b6b4\" x=\"33.2875\" y=\"109.883069\" style=\"stroke: #000000; stroke-width: 0.8\"/>\n      </g>\n     </g>\n     <g id=\"text_15\">\n      <!-- 600 -->\n      <g transform=\"translate(7.2 113.682288) scale(0.1 -0.1)\">\n       <use xlink:href=\"#DejaVuSans-36\"/>\n       <use xlink:href=\"#DejaVuSans-30\" x=\"63.623047\"/>\n       <use xlink:href=\"#DejaVuSans-30\" x=\"127.246094\"/>\n      </g>\n     </g>\n    </g>\n    <g id=\"ytick_8\">\n     <g id=\"line2d_31\">\n      <path d=\"M 33.2875 50.557226 \nL 926.0875 50.557226 \n\" clip-path=\"url(#p06837b9d6f)\" style=\"fill: none; stroke: #b0b0b0; stroke-width: 0.8; stroke-linecap: square\"/>\n     </g>\n     <g id=\"line2d_32\">\n      <g>\n       <use xlink:href=\"#m6932c3b6b4\" x=\"33.2875\" y=\"50.557226\" style=\"stroke: #000000; stroke-width: 0.8\"/>\n      </g>\n     </g>\n     <g id=\"text_16\">\n      <!-- 700 -->\n      <g transform=\"translate(7.2 54.356445) scale(0.1 -0.1)\">\n       <use xlink:href=\"#DejaVuSans-37\"/>\n       <use xlink:href=\"#DejaVuSans-30\" x=\"63.623047\"/>\n       <use xlink:href=\"#DejaVuSans-30\" x=\"127.246094\"/>\n      </g>\n     </g>\n    </g>\n   </g>\n   <g id=\"patch_103\">\n    <path d=\"M 33.2875 465.838125 \nL 33.2875 22.318125 \n\" style=\"fill: none; stroke: #000000; stroke-width: 0.8; stroke-linejoin: miter; stroke-linecap: square\"/>\n   </g>\n   <g id=\"patch_104\">\n    <path d=\"M 926.0875 465.838125 \nL 926.0875 22.318125 \n\" style=\"fill: none; stroke: #000000; stroke-width: 0.8; stroke-linejoin: miter; stroke-linecap: square\"/>\n   </g>\n   <g id=\"patch_105\">\n    <path d=\"M 33.2875 465.838125 \nL 926.0875 465.838125 \n\" style=\"fill: none; stroke: #000000; stroke-width: 0.8; stroke-linejoin: miter; stroke-linecap: square\"/>\n   </g>\n   <g id=\"patch_106\">\n    <path d=\"M 33.2875 22.318125 \nL 926.0875 22.318125 \n\" style=\"fill: none; stroke: #000000; stroke-width: 0.8; stroke-linejoin: miter; stroke-linecap: square\"/>\n   </g>\n   <g id=\"text_17\">\n    <!-- actions -->\n    <g transform=\"translate(458.093125 16.318125) scale(0.12 -0.12)\">\n     <defs>\n      <path id=\"DejaVuSans-61\" d=\"M 2194 1759 \nQ 1497 1759 1228 1600 \nQ 959 1441 959 1056 \nQ 959 750 1161 570 \nQ 1363 391 1709 391 \nQ 2188 391 2477 730 \nQ 2766 1069 2766 1631 \nL 2766 1759 \nL 2194 1759 \nz\nM 3341 1997 \nL 3341 0 \nL 2766 0 \nL 2766 531 \nQ 2569 213 2275 61 \nQ 1981 -91 1556 -91 \nQ 1019 -91 701 211 \nQ 384 513 384 1019 \nQ 384 1609 779 1909 \nQ 1175 2209 1959 2209 \nL 2766 2209 \nL 2766 2266 \nQ 2766 2663 2505 2880 \nQ 2244 3097 1772 3097 \nQ 1472 3097 1187 3025 \nQ 903 2953 641 2809 \nL 641 3341 \nQ 956 3463 1253 3523 \nQ 1550 3584 1831 3584 \nQ 2591 3584 2966 3190 \nQ 3341 2797 3341 1997 \nz\n\" transform=\"scale(0.015625)\"/>\n      <path id=\"DejaVuSans-63\" d=\"M 3122 3366 \nL 3122 2828 \nQ 2878 2963 2633 3030 \nQ 2388 3097 2138 3097 \nQ 1578 3097 1268 2742 \nQ 959 2388 959 1747 \nQ 959 1106 1268 751 \nQ 1578 397 2138 397 \nQ 2388 397 2633 464 \nQ 2878 531 3122 666 \nL 3122 134 \nQ 2881 22 2623 -34 \nQ 2366 -91 2075 -91 \nQ 1284 -91 818 406 \nQ 353 903 353 1747 \nQ 353 2603 823 3093 \nQ 1294 3584 2113 3584 \nQ 2378 3584 2631 3529 \nQ 2884 3475 3122 3366 \nz\n\" transform=\"scale(0.015625)\"/>\n      <path id=\"DejaVuSans-74\" d=\"M 1172 4494 \nL 1172 3500 \nL 2356 3500 \nL 2356 3053 \nL 1172 3053 \nL 1172 1153 \nQ 1172 725 1289 603 \nQ 1406 481 1766 481 \nL 2356 481 \nL 2356 0 \nL 1766 0 \nQ 1100 0 847 248 \nQ 594 497 594 1153 \nL 594 3053 \nL 172 3053 \nL 172 3500 \nL 594 3500 \nL 594 4494 \nL 1172 4494 \nz\n\" transform=\"scale(0.015625)\"/>\n      <path id=\"DejaVuSans-69\" d=\"M 603 3500 \nL 1178 3500 \nL 1178 0 \nL 603 0 \nL 603 3500 \nz\nM 603 4863 \nL 1178 4863 \nL 1178 4134 \nL 603 4134 \nL 603 4863 \nz\n\" transform=\"scale(0.015625)\"/>\n      <path id=\"DejaVuSans-6f\" d=\"M 1959 3097 \nQ 1497 3097 1228 2736 \nQ 959 2375 959 1747 \nQ 959 1119 1226 758 \nQ 1494 397 1959 397 \nQ 2419 397 2687 759 \nQ 2956 1122 2956 1747 \nQ 2956 2369 2687 2733 \nQ 2419 3097 1959 3097 \nz\nM 1959 3584 \nQ 2709 3584 3137 3096 \nQ 3566 2609 3566 1747 \nQ 3566 888 3137 398 \nQ 2709 -91 1959 -91 \nQ 1206 -91 779 398 \nQ 353 888 353 1747 \nQ 353 2609 779 3096 \nQ 1206 3584 1959 3584 \nz\n\" transform=\"scale(0.015625)\"/>\n      <path id=\"DejaVuSans-6e\" d=\"M 3513 2113 \nL 3513 0 \nL 2938 0 \nL 2938 2094 \nQ 2938 2591 2744 2837 \nQ 2550 3084 2163 3084 \nQ 1697 3084 1428 2787 \nQ 1159 2491 1159 1978 \nL 1159 0 \nL 581 0 \nL 581 3500 \nL 1159 3500 \nL 1159 2956 \nQ 1366 3272 1645 3428 \nQ 1925 3584 2291 3584 \nQ 2894 3584 3203 3211 \nQ 3513 2838 3513 2113 \nz\n\" transform=\"scale(0.015625)\"/>\n      <path id=\"DejaVuSans-73\" d=\"M 2834 3397 \nL 2834 2853 \nQ 2591 2978 2328 3040 \nQ 2066 3103 1784 3103 \nQ 1356 3103 1142 2972 \nQ 928 2841 928 2578 \nQ 928 2378 1081 2264 \nQ 1234 2150 1697 2047 \nL 1894 2003 \nQ 2506 1872 2764 1633 \nQ 3022 1394 3022 966 \nQ 3022 478 2636 193 \nQ 2250 -91 1575 -91 \nQ 1294 -91 989 -36 \nQ 684 19 347 128 \nL 347 722 \nQ 666 556 975 473 \nQ 1284 391 1588 391 \nQ 1994 391 2212 530 \nQ 2431 669 2431 922 \nQ 2431 1156 2273 1281 \nQ 2116 1406 1581 1522 \nL 1381 1569 \nQ 847 1681 609 1914 \nQ 372 2147 372 2553 \nQ 372 3047 722 3315 \nQ 1072 3584 1716 3584 \nQ 2034 3584 2315 3537 \nQ 2597 3491 2834 3397 \nz\n\" transform=\"scale(0.015625)\"/>\n     </defs>\n     <use xlink:href=\"#DejaVuSans-61\"/>\n     <use xlink:href=\"#DejaVuSans-63\" x=\"61.279297\"/>\n     <use xlink:href=\"#DejaVuSans-74\" x=\"116.259766\"/>\n     <use xlink:href=\"#DejaVuSans-69\" x=\"155.46875\"/>\n     <use xlink:href=\"#DejaVuSans-6f\" x=\"183.251953\"/>\n     <use xlink:href=\"#DejaVuSans-6e\" x=\"244.433594\"/>\n     <use xlink:href=\"#DejaVuSans-73\" x=\"307.8125\"/>\n    </g>\n   </g>\n  </g>\n </g>\n <defs>\n  <clipPath id=\"p06837b9d6f\">\n   <rect x=\"33.2875\" y=\"22.318125\" width=\"892.8\" height=\"443.52\"/>\n  </clipPath>\n </defs>\n</svg>\n",
      "text/plain": [
       "<Figure size 1600x800 with 1 Axes>"
      ]
     },
     "metadata": {},
     "output_type": "display_data"
    }
   ],
   "source": [
    "# Exit rate\n",
    "df_main_table[[\"actions\"]].hist(bins=100, figsize=(16, 8))"
   ]
  },
  {
   "cell_type": "code",
   "execution_count": 7,
   "metadata": {},
   "outputs": [
    {
     "data": {
      "text/plain": [
       "goalConversions\n",
       "0    AxesSubplot(0.125,0.11;0.775x0.77)\n",
       "1    AxesSubplot(0.125,0.11;0.775x0.77)\n",
       "Name: visitServerHour, dtype: object"
      ]
     },
     "execution_count": 7,
     "metadata": {},
     "output_type": "execute_result"
    },
    {
     "data": {
      "image/png": "[encoded data removed]",
      "image/svg+xml": "<?xml version=\"1.0\" encoding=\"utf-8\" standalone=\"no\"?>\n<!DOCTYPE svg PUBLIC \"-//W3C//DTD SVG 1.1//EN\"\n  \"http://www.w3.org/Graphics/SVG/1.1/DTD/svg11.dtd\">\n<svg xmlns:xlink=\"http://www.w3.org/1999/xlink\" width=\"397.6075pt\" height=\"297.190125pt\" viewBox=\"0 0 397.6075 297.190125\" xmlns=\"http://www.w3.org/2000/svg\" version=\"1.1\">\n <metadata>\n  <rdf:RDF xmlns:dc=\"http://purl.org/dc/elements/1.1/\" xmlns:cc=\"http://creativecommons.org/ns#\" xmlns:rdf=\"http://www.w3.org/1999/02/22-rdf-syntax-ns#\">\n   <cc:Work>\n    <dc:type rdf:resource=\"http://purl.org/dc/dcmitype/StillImage\"/>\n    <dc:date>2023-03-26T00:07:29.709790</dc:date>\n    <dc:format>image/svg+xml</dc:format>\n    <dc:creator>\n     <cc:Agent>\n      <dc:title>Matplotlib v3.6.3, https://matplotlib.org/</dc:title>\n     </cc:Agent>\n    </dc:creator>\n   </cc:Work>\n  </rdf:RDF>\n </metadata>\n <defs>\n  <style type=\"text/css\">*{stroke-linejoin: round; stroke-linecap: butt}</style>\n </defs>\n <g id=\"figure_1\">\n  <g id=\"patch_1\">\n   <path d=\"M 0 297.190125 \nL 397.6075 297.190125 \nL 397.6075 0 \nL 0 0 \nz\n\" style=\"fill: #ffffff\"/>\n  </g>\n  <g id=\"axes_1\">\n   <g id=\"patch_2\">\n    <path d=\"M 33.2875 273.312 \nL 390.4075 273.312 \nL 390.4075 7.2 \nL 33.2875 7.2 \nz\n\" style=\"fill: #ffffff\"/>\n   </g>\n   <g id=\"patch_3\">\n    <path d=\"M 49.520227 273.312 \nL 63.0475 273.312 \nL 63.0475 260.203034 \nL 49.520227 260.203034 \nz\n\" clip-path=\"url(#p9a2bd823fe)\" style=\"fill: #1f77b4\"/>\n   </g>\n   <g id=\"patch_4\">\n    <path d=\"M 63.0475 273.312 \nL 76.574773 273.312 \nL 76.574773 271.127172 \nL 63.0475 271.127172 \nz\n\" clip-path=\"url(#p9a2bd823fe)\" style=\"fill: #1f77b4\"/>\n   </g>\n   <g id=\"patch_5\">\n    <path d=\"M 76.574773 273.312 \nL 90.102045 273.312 \nL 90.102045 266.757517 \nL 76.574773 266.757517 \nz\n\" clip-path=\"url(#p9a2bd823fe)\" style=\"fill: #1f77b4\"/>\n   </g>\n   <g id=\"patch_6\">\n    <path d=\"M 90.102045 273.312 \nL 103.629318 273.312 \nL 103.629318 266.757517 \nL 90.102045 266.757517 \nz\n\" clip-path=\"url(#p9a2bd823fe)\" style=\"fill: #1f77b4\"/>\n   </g>\n   <g id=\"patch_7\">\n    <path d=\"M 103.629318 273.312 \nL 117.156591 273.312 \nL 117.156591 255.833379 \nL 103.629318 255.833379 \nz\n\" clip-path=\"url(#p9a2bd823fe)\" style=\"fill: #1f77b4\"/>\n   </g>\n   <g id=\"patch_8\">\n    <path d=\"M 117.156591 273.312 \nL 130.683864 273.312 \nL 130.683864 236.169931 \nL 117.156591 236.169931 \nz\n\" clip-path=\"url(#p9a2bd823fe)\" style=\"fill: #1f77b4\"/>\n   </g>\n   <g id=\"patch_9\">\n    <path d=\"M 130.683864 273.312 \nL 144.211136 273.312 \nL 144.211136 148.776828 \nL 130.683864 148.776828 \nz\n\" clip-path=\"url(#p9a2bd823fe)\" style=\"fill: #1f77b4\"/>\n   </g>\n   <g id=\"patch_10\">\n    <path d=\"M 144.211136 273.312 \nL 157.738409 273.312 \nL 157.738409 153.146483 \nL 144.211136 153.146483 \nz\n\" clip-path=\"url(#p9a2bd823fe)\" style=\"fill: #1f77b4\"/>\n   </g>\n   <g id=\"patch_11\">\n    <path d=\"M 157.738409 273.312 \nL 171.265682 273.312 \nL 171.265682 57.014069 \nL 157.738409 57.014069 \nz\n\" clip-path=\"url(#p9a2bd823fe)\" style=\"fill: #1f77b4\"/>\n   </g>\n   <g id=\"patch_12\">\n    <path d=\"M 171.265682 273.312 \nL 184.792955 273.312 \nL 184.792955 24.241655 \nL 171.265682 24.241655 \nz\n\" clip-path=\"url(#p9a2bd823fe)\" style=\"fill: #1f77b4\"/>\n   </g>\n   <g id=\"patch_13\">\n    <path d=\"M 184.792955 273.312 \nL 198.320227 273.312 \nL 198.320227 19.872 \nL 184.792955 19.872 \nz\n\" clip-path=\"url(#p9a2bd823fe)\" style=\"fill: #1f77b4\"/>\n   </g>\n   <g id=\"patch_14\">\n    <path d=\"M 198.320227 273.312 \nL 211.8475 273.312 \nL 211.8475 72.307862 \nL 198.320227 72.307862 \nz\n\" clip-path=\"url(#p9a2bd823fe)\" style=\"fill: #1f77b4\"/>\n   </g>\n   <g id=\"patch_15\">\n    <path d=\"M 211.8475 273.312 \nL 225.374773 273.312 \nL 225.374773 61.383724 \nL 211.8475 61.383724 \nz\n\" clip-path=\"url(#p9a2bd823fe)\" style=\"fill: #1f77b4\"/>\n   </g>\n   <g id=\"patch_16\">\n    <path d=\"M 225.374773 273.312 \nL 238.902045 273.312 \nL 238.902045 50.459586 \nL 225.374773 50.459586 \nz\n\" clip-path=\"url(#p9a2bd823fe)\" style=\"fill: #1f77b4\"/>\n   </g>\n   <g id=\"patch_17\">\n    <path d=\"M 238.902045 273.312 \nL 252.429318 273.312 \nL 252.429318 41.720276 \nL 238.902045 41.720276 \nz\n\" clip-path=\"url(#p9a2bd823fe)\" style=\"fill: #1f77b4\"/>\n   </g>\n   <g id=\"patch_18\">\n    <path d=\"M 252.429318 273.312 \nL 265.956591 273.312 \nL 265.956591 85.416828 \nL 252.429318 85.416828 \nz\n\" clip-path=\"url(#p9a2bd823fe)\" style=\"fill: #1f77b4\"/>\n   </g>\n   <g id=\"patch_19\">\n    <path d=\"M 265.956591 273.312 \nL 279.483864 273.312 \nL 279.483864 137.85269 \nL 265.956591 137.85269 \nz\n\" clip-path=\"url(#p9a2bd823fe)\" style=\"fill: #1f77b4\"/>\n   </g>\n   <g id=\"patch_20\">\n    <path d=\"M 279.483864 273.312 \nL 293.011136 273.312 \nL 293.011136 155.33131 \nL 279.483864 155.33131 \nz\n\" clip-path=\"url(#p9a2bd823fe)\" style=\"fill: #1f77b4\"/>\n   </g>\n   <g id=\"patch_21\">\n    <path d=\"M 293.011136 273.312 \nL 306.538409 273.312 \nL 306.538409 150.961655 \nL 293.011136 150.961655 \nz\n\" clip-path=\"url(#p9a2bd823fe)\" style=\"fill: #1f77b4\"/>\n   </g>\n   <g id=\"patch_22\">\n    <path d=\"M 306.538409 273.312 \nL 320.065682 273.312 \nL 320.065682 172.809931 \nL 306.538409 172.809931 \nz\n\" clip-path=\"url(#p9a2bd823fe)\" style=\"fill: #1f77b4\"/>\n   </g>\n   <g id=\"patch_23\">\n    <path d=\"M 320.065682 273.312 \nL 333.592955 273.312 \nL 333.592955 168.440276 \nL 320.065682 168.440276 \nz\n\" clip-path=\"url(#p9a2bd823fe)\" style=\"fill: #1f77b4\"/>\n   </g>\n   <g id=\"patch_24\">\n    <path d=\"M 333.592955 273.312 \nL 347.120227 273.312 \nL 347.120227 209.952 \nL 333.592955 209.952 \nz\n\" clip-path=\"url(#p9a2bd823fe)\" style=\"fill: #1f77b4\"/>\n   </g>\n   <g id=\"patch_25\">\n    <path d=\"M 347.120227 273.312 \nL 360.6475 273.312 \nL 360.6475 238.354759 \nL 347.120227 238.354759 \nz\n\" clip-path=\"url(#p9a2bd823fe)\" style=\"fill: #1f77b4\"/>\n   </g>\n   <g id=\"patch_26\">\n    <path d=\"M 360.6475 273.312 \nL 374.174773 273.312 \nL 374.174773 247.094069 \nL 360.6475 247.094069 \nz\n\" clip-path=\"url(#p9a2bd823fe)\" style=\"fill: #1f77b4\"/>\n   </g>\n   <g id=\"patch_27\">\n    <path d=\"M 49.520227 273.312 \nL 63.0475 273.312 \nL 63.0475 264.57269 \nL 49.520227 264.57269 \nz\n\" clip-path=\"url(#p9a2bd823fe)\" style=\"fill: #ff7f0e\"/>\n   </g>\n   <g id=\"patch_28\">\n    <path d=\"M 63.0475 273.312 \nL 76.574773 273.312 \nL 76.574773 273.312 \nL 63.0475 273.312 \nz\n\" clip-path=\"url(#p9a2bd823fe)\" style=\"fill: #ff7f0e\"/>\n   </g>\n   <g id=\"patch_29\">\n    <path d=\"M 76.574773 273.312 \nL 90.102045 273.312 \nL 90.102045 273.312 \nL 76.574773 273.312 \nz\n\" clip-path=\"url(#p9a2bd823fe)\" style=\"fill: #ff7f0e\"/>\n   </g>\n   <g id=\"patch_30\">\n    <path d=\"M 90.102045 273.312 \nL 103.629318 273.312 \nL 103.629318 273.312 \nL 90.102045 273.312 \nz\n\" clip-path=\"url(#p9a2bd823fe)\" style=\"fill: #ff7f0e\"/>\n   </g>\n   <g id=\"patch_31\">\n    <path d=\"M 103.629318 273.312 \nL 117.156591 273.312 \nL 117.156591 266.757517 \nL 103.629318 266.757517 \nz\n\" clip-path=\"url(#p9a2bd823fe)\" style=\"fill: #ff7f0e\"/>\n   </g>\n   <g id=\"patch_32\">\n    <path d=\"M 117.156591 273.312 \nL 130.683864 273.312 \nL 130.683864 273.312 \nL 117.156591 273.312 \nz\n\" clip-path=\"url(#p9a2bd823fe)\" style=\"fill: #ff7f0e\"/>\n   </g>\n   <g id=\"patch_33\">\n    <path d=\"M 130.683864 273.312 \nL 144.211136 273.312 \nL 144.211136 264.57269 \nL 130.683864 264.57269 \nz\n\" clip-path=\"url(#p9a2bd823fe)\" style=\"fill: #ff7f0e\"/>\n   </g>\n   <g id=\"patch_34\">\n    <path d=\"M 144.211136 273.312 \nL 157.738409 273.312 \nL 157.738409 255.833379 \nL 144.211136 255.833379 \nz\n\" clip-path=\"url(#p9a2bd823fe)\" style=\"fill: #ff7f0e\"/>\n   </g>\n   <g id=\"patch_35\">\n    <path d=\"M 157.738409 273.312 \nL 171.265682 273.312 \nL 171.265682 216.506483 \nL 157.738409 216.506483 \nz\n\" clip-path=\"url(#p9a2bd823fe)\" style=\"fill: #ff7f0e\"/>\n   </g>\n   <g id=\"patch_36\">\n    <path d=\"M 171.265682 273.312 \nL 184.792955 273.312 \nL 184.792955 209.952 \nL 171.265682 209.952 \nz\n\" clip-path=\"url(#p9a2bd823fe)\" style=\"fill: #ff7f0e\"/>\n   </g>\n   <g id=\"patch_37\">\n    <path d=\"M 184.792955 273.312 \nL 198.320227 273.312 \nL 198.320227 205.582345 \nL 184.792955 205.582345 \nz\n\" clip-path=\"url(#p9a2bd823fe)\" style=\"fill: #ff7f0e\"/>\n   </g>\n   <g id=\"patch_38\">\n    <path d=\"M 198.320227 273.312 \nL 211.8475 273.312 \nL 211.8475 203.397517 \nL 198.320227 203.397517 \nz\n\" clip-path=\"url(#p9a2bd823fe)\" style=\"fill: #ff7f0e\"/>\n   </g>\n   <g id=\"patch_39\">\n    <path d=\"M 211.8475 273.312 \nL 225.374773 273.312 \nL 225.374773 220.876138 \nL 211.8475 220.876138 \nz\n\" clip-path=\"url(#p9a2bd823fe)\" style=\"fill: #ff7f0e\"/>\n   </g>\n   <g id=\"patch_40\">\n    <path d=\"M 225.374773 273.312 \nL 238.902045 273.312 \nL 238.902045 207.767172 \nL 225.374773 207.767172 \nz\n\" clip-path=\"url(#p9a2bd823fe)\" style=\"fill: #ff7f0e\"/>\n   </g>\n   <g id=\"patch_41\">\n    <path d=\"M 238.902045 273.312 \nL 252.429318 273.312 \nL 252.429318 220.876138 \nL 238.902045 220.876138 \nz\n\" clip-path=\"url(#p9a2bd823fe)\" style=\"fill: #ff7f0e\"/>\n   </g>\n   <g id=\"patch_42\">\n    <path d=\"M 252.429318 273.312 \nL 265.956591 273.312 \nL 265.956591 225.245793 \nL 252.429318 225.245793 \nz\n\" clip-path=\"url(#p9a2bd823fe)\" style=\"fill: #ff7f0e\"/>\n   </g>\n   <g id=\"patch_43\">\n    <path d=\"M 265.956591 273.312 \nL 279.483864 273.312 \nL 279.483864 231.800276 \nL 265.956591 231.800276 \nz\n\" clip-path=\"url(#p9a2bd823fe)\" style=\"fill: #ff7f0e\"/>\n   </g>\n   <g id=\"patch_44\">\n    <path d=\"M 279.483864 273.312 \nL 293.011136 273.312 \nL 293.011136 209.952 \nL 279.483864 209.952 \nz\n\" clip-path=\"url(#p9a2bd823fe)\" style=\"fill: #ff7f0e\"/>\n   </g>\n   <g id=\"patch_45\">\n    <path d=\"M 293.011136 273.312 \nL 306.538409 273.312 \nL 306.538409 244.909241 \nL 293.011136 244.909241 \nz\n\" clip-path=\"url(#p9a2bd823fe)\" style=\"fill: #ff7f0e\"/>\n   </g>\n   <g id=\"patch_46\">\n    <path d=\"M 306.538409 273.312 \nL 320.065682 273.312 \nL 320.065682 244.909241 \nL 306.538409 244.909241 \nz\n\" clip-path=\"url(#p9a2bd823fe)\" style=\"fill: #ff7f0e\"/>\n   </g>\n   <g id=\"patch_47\">\n    <path d=\"M 320.065682 273.312 \nL 333.592955 273.312 \nL 333.592955 233.985103 \nL 320.065682 233.985103 \nz\n\" clip-path=\"url(#p9a2bd823fe)\" style=\"fill: #ff7f0e\"/>\n   </g>\n   <g id=\"patch_48\">\n    <path d=\"M 333.592955 273.312 \nL 347.120227 273.312 \nL 347.120227 255.833379 \nL 333.592955 255.833379 \nz\n\" clip-path=\"url(#p9a2bd823fe)\" style=\"fill: #ff7f0e\"/>\n   </g>\n   <g id=\"patch_49\">\n    <path d=\"M 347.120227 273.312 \nL 360.6475 273.312 \nL 360.6475 249.278897 \nL 347.120227 249.278897 \nz\n\" clip-path=\"url(#p9a2bd823fe)\" style=\"fill: #ff7f0e\"/>\n   </g>\n   <g id=\"patch_50\">\n    <path d=\"M 360.6475 273.312 \nL 374.174773 273.312 \nL 374.174773 268.942345 \nL 360.6475 268.942345 \nz\n\" clip-path=\"url(#p9a2bd823fe)\" style=\"fill: #ff7f0e\"/>\n   </g>\n   <g id=\"matplotlib.axis_1\">\n    <g id=\"xtick_1\">\n     <g id=\"line2d_1\">\n      <defs>\n       <path id=\"m74377595f4\" d=\"M 0 0 \nL 0 3.5 \n\" style=\"stroke: #000000; stroke-width: 0.8\"/>\n      </defs>\n      <g>\n       <use xlink:href=\"#m74377595f4\" x=\"49.520227\" y=\"273.312\" style=\"stroke: #000000; stroke-width: 0.8\"/>\n      </g>\n     </g>\n     <g id=\"text_1\">\n      <!-- 0 -->\n      <g transform=\"translate(46.338977 287.910437) scale(0.1 -0.1)\">\n       <defs>\n        <path id=\"DejaVuSans-30\" d=\"M 2034 4250 \nQ 1547 4250 1301 3770 \nQ 1056 3291 1056 2328 \nQ 1056 1369 1301 889 \nQ 1547 409 2034 409 \nQ 2525 409 2770 889 \nQ 3016 1369 3016 2328 \nQ 3016 3291 2770 3770 \nQ 2525 4250 2034 4250 \nz\nM 2034 4750 \nQ 2819 4750 3233 4129 \nQ 3647 3509 3647 2328 \nQ 3647 1150 3233 529 \nQ 2819 -91 2034 -91 \nQ 1250 -91 836 529 \nQ 422 1150 422 2328 \nQ 422 3509 836 4129 \nQ 1250 4750 2034 4750 \nz\n\" transform=\"scale(0.015625)\"/>\n       </defs>\n       <use xlink:href=\"#DejaVuSans-30\"/>\n      </g>\n     </g>\n    </g>\n    <g id=\"xtick_2\">\n     <g id=\"line2d_2\">\n      <g>\n       <use xlink:href=\"#m74377595f4\" x=\"120.097302\" y=\"273.312\" style=\"stroke: #000000; stroke-width: 0.8\"/>\n      </g>\n     </g>\n     <g id=\"text_2\">\n      <!-- 5 -->\n      <g transform=\"translate(116.916052 287.910437) scale(0.1 -0.1)\">\n       <defs>\n        <path id=\"DejaVuSans-35\" d=\"M 691 4666 \nL 3169 4666 \nL 3169 4134 \nL 1269 4134 \nL 1269 2991 \nQ 1406 3038 1543 3061 \nQ 1681 3084 1819 3084 \nQ 2600 3084 3056 2656 \nQ 3513 2228 3513 1497 \nQ 3513 744 3044 326 \nQ 2575 -91 1722 -91 \nQ 1428 -91 1123 -41 \nQ 819 9 494 109 \nL 494 744 \nQ 775 591 1075 516 \nQ 1375 441 1709 441 \nQ 2250 441 2565 725 \nQ 2881 1009 2881 1497 \nQ 2881 1984 2565 2268 \nQ 2250 2553 1709 2553 \nQ 1456 2553 1204 2497 \nQ 953 2441 691 2322 \nL 691 4666 \nz\n\" transform=\"scale(0.015625)\"/>\n       </defs>\n       <use xlink:href=\"#DejaVuSans-35\"/>\n      </g>\n     </g>\n    </g>\n    <g id=\"xtick_3\">\n     <g id=\"line2d_3\">\n      <g>\n       <use xlink:href=\"#m74377595f4\" x=\"190.674377\" y=\"273.312\" style=\"stroke: #000000; stroke-width: 0.8\"/>\n      </g>\n     </g>\n     <g id=\"text_3\">\n      <!-- 10 -->\n      <g transform=\"translate(184.311877 287.910437) scale(0.1 -0.1)\">\n       <defs>\n        <path id=\"DejaVuSans-31\" d=\"M 794 531 \nL 1825 531 \nL 1825 4091 \nL 703 3866 \nL 703 4441 \nL 1819 4666 \nL 2450 4666 \nL 2450 531 \nL 3481 531 \nL 3481 0 \nL 794 0 \nL 794 531 \nz\n\" transform=\"scale(0.015625)\"/>\n       </defs>\n       <use xlink:href=\"#DejaVuSans-31\"/>\n       <use xlink:href=\"#DejaVuSans-30\" x=\"63.623047\"/>\n      </g>\n     </g>\n    </g>\n    <g id=\"xtick_4\">\n     <g id=\"line2d_4\">\n      <g>\n       <use xlink:href=\"#m74377595f4\" x=\"261.251453\" y=\"273.312\" style=\"stroke: #000000; stroke-width: 0.8\"/>\n      </g>\n     </g>\n     <g id=\"text_4\">\n      <!-- 15 -->\n      <g transform=\"translate(254.888953 287.910437) scale(0.1 -0.1)\">\n       <use xlink:href=\"#DejaVuSans-31\"/>\n       <use xlink:href=\"#DejaVuSans-35\" x=\"63.623047\"/>\n      </g>\n     </g>\n    </g>\n    <g id=\"xtick_5\">\n     <g id=\"line2d_5\">\n      <g>\n       <use xlink:href=\"#m74377595f4\" x=\"331.828528\" y=\"273.312\" style=\"stroke: #000000; stroke-width: 0.8\"/>\n      </g>\n     </g>\n     <g id=\"text_5\">\n      <!-- 20 -->\n      <g transform=\"translate(325.466028 287.910437) scale(0.1 -0.1)\">\n       <defs>\n        <path id=\"DejaVuSans-32\" d=\"M 1228 531 \nL 3431 531 \nL 3431 0 \nL 469 0 \nL 469 531 \nQ 828 903 1448 1529 \nQ 2069 2156 2228 2338 \nQ 2531 2678 2651 2914 \nQ 2772 3150 2772 3378 \nQ 2772 3750 2511 3984 \nQ 2250 4219 1831 4219 \nQ 1534 4219 1204 4116 \nQ 875 4013 500 3803 \nL 500 4441 \nQ 881 4594 1212 4672 \nQ 1544 4750 1819 4750 \nQ 2544 4750 2975 4387 \nQ 3406 4025 3406 3419 \nQ 3406 3131 3298 2873 \nQ 3191 2616 2906 2266 \nQ 2828 2175 2409 1742 \nQ 1991 1309 1228 531 \nz\n\" transform=\"scale(0.015625)\"/>\n       </defs>\n       <use xlink:href=\"#DejaVuSans-32\"/>\n       <use xlink:href=\"#DejaVuSans-30\" x=\"63.623047\"/>\n      </g>\n     </g>\n    </g>\n   </g>\n   <g id=\"matplotlib.axis_2\">\n    <g id=\"ytick_1\">\n     <g id=\"line2d_6\">\n      <defs>\n       <path id=\"m8deb249498\" d=\"M 0 0 \nL -3.5 0 \n\" style=\"stroke: #000000; stroke-width: 0.8\"/>\n      </defs>\n      <g>\n       <use xlink:href=\"#m8deb249498\" x=\"33.2875\" y=\"273.312\" style=\"stroke: #000000; stroke-width: 0.8\"/>\n      </g>\n     </g>\n     <g id=\"text_6\">\n      <!-- 0 -->\n      <g transform=\"translate(19.925 277.111219) scale(0.1 -0.1)\">\n       <use xlink:href=\"#DejaVuSans-30\"/>\n      </g>\n     </g>\n    </g>\n    <g id=\"ytick_2\">\n     <g id=\"line2d_7\">\n      <g>\n       <use xlink:href=\"#m8deb249498\" x=\"33.2875\" y=\"229.615448\" style=\"stroke: #000000; stroke-width: 0.8\"/>\n      </g>\n     </g>\n     <g id=\"text_7\">\n      <!-- 20 -->\n      <g transform=\"translate(13.5625 233.414667) scale(0.1 -0.1)\">\n       <use xlink:href=\"#DejaVuSans-32\"/>\n       <use xlink:href=\"#DejaVuSans-30\" x=\"63.623047\"/>\n      </g>\n     </g>\n    </g>\n    <g id=\"ytick_3\">\n     <g id=\"line2d_8\">\n      <g>\n       <use xlink:href=\"#m8deb249498\" x=\"33.2875\" y=\"185.918897\" style=\"stroke: #000000; stroke-width: 0.8\"/>\n      </g>\n     </g>\n     <g id=\"text_8\">\n      <!-- 40 -->\n      <g transform=\"translate(13.5625 189.718115) scale(0.1 -0.1)\">\n       <defs>\n        <path id=\"DejaVuSans-34\" d=\"M 2419 4116 \nL 825 1625 \nL 2419 1625 \nL 2419 4116 \nz\nM 2253 4666 \nL 3047 4666 \nL 3047 1625 \nL 3713 1625 \nL 3713 1100 \nL 3047 1100 \nL 3047 0 \nL 2419 0 \nL 2419 1100 \nL 313 1100 \nL 313 1709 \nL 2253 4666 \nz\n\" transform=\"scale(0.015625)\"/>\n       </defs>\n       <use xlink:href=\"#DejaVuSans-34\"/>\n       <use xlink:href=\"#DejaVuSans-30\" x=\"63.623047\"/>\n      </g>\n     </g>\n    </g>\n    <g id=\"ytick_4\">\n     <g id=\"line2d_9\">\n      <g>\n       <use xlink:href=\"#m8deb249498\" x=\"33.2875\" y=\"142.222345\" style=\"stroke: #000000; stroke-width: 0.8\"/>\n      </g>\n     </g>\n     <g id=\"text_9\">\n      <!-- 60 -->\n      <g transform=\"translate(13.5625 146.021564) scale(0.1 -0.1)\">\n       <defs>\n        <path id=\"DejaVuSans-36\" d=\"M 2113 2584 \nQ 1688 2584 1439 2293 \nQ 1191 2003 1191 1497 \nQ 1191 994 1439 701 \nQ 1688 409 2113 409 \nQ 2538 409 2786 701 \nQ 3034 994 3034 1497 \nQ 3034 2003 2786 2293 \nQ 2538 2584 2113 2584 \nz\nM 3366 4563 \nL 3366 3988 \nQ 3128 4100 2886 4159 \nQ 2644 4219 2406 4219 \nQ 1781 4219 1451 3797 \nQ 1122 3375 1075 2522 \nQ 1259 2794 1537 2939 \nQ 1816 3084 2150 3084 \nQ 2853 3084 3261 2657 \nQ 3669 2231 3669 1497 \nQ 3669 778 3244 343 \nQ 2819 -91 2113 -91 \nQ 1303 -91 875 529 \nQ 447 1150 447 2328 \nQ 447 3434 972 4092 \nQ 1497 4750 2381 4750 \nQ 2619 4750 2861 4703 \nQ 3103 4656 3366 4563 \nz\n\" transform=\"scale(0.015625)\"/>\n       </defs>\n       <use xlink:href=\"#DejaVuSans-36\"/>\n       <use xlink:href=\"#DejaVuSans-30\" x=\"63.623047\"/>\n      </g>\n     </g>\n    </g>\n    <g id=\"ytick_5\">\n     <g id=\"line2d_10\">\n      <g>\n       <use xlink:href=\"#m8deb249498\" x=\"33.2875\" y=\"98.525793\" style=\"stroke: #000000; stroke-width: 0.8\"/>\n      </g>\n     </g>\n     <g id=\"text_10\">\n      <!-- 80 -->\n      <g transform=\"translate(13.5625 102.325012) scale(0.1 -0.1)\">\n       <defs>\n        <path id=\"DejaVuSans-38\" d=\"M 2034 2216 \nQ 1584 2216 1326 1975 \nQ 1069 1734 1069 1313 \nQ 1069 891 1326 650 \nQ 1584 409 2034 409 \nQ 2484 409 2743 651 \nQ 3003 894 3003 1313 \nQ 3003 1734 2745 1975 \nQ 2488 2216 2034 2216 \nz\nM 1403 2484 \nQ 997 2584 770 2862 \nQ 544 3141 544 3541 \nQ 544 4100 942 4425 \nQ 1341 4750 2034 4750 \nQ 2731 4750 3128 4425 \nQ 3525 4100 3525 3541 \nQ 3525 3141 3298 2862 \nQ 3072 2584 2669 2484 \nQ 3125 2378 3379 2068 \nQ 3634 1759 3634 1313 \nQ 3634 634 3220 271 \nQ 2806 -91 2034 -91 \nQ 1263 -91 848 271 \nQ 434 634 434 1313 \nQ 434 1759 690 2068 \nQ 947 2378 1403 2484 \nz\nM 1172 3481 \nQ 1172 3119 1398 2916 \nQ 1625 2713 2034 2713 \nQ 2441 2713 2670 2916 \nQ 2900 3119 2900 3481 \nQ 2900 3844 2670 4047 \nQ 2441 4250 2034 4250 \nQ 1625 4250 1398 4047 \nQ 1172 3844 1172 3481 \nz\n\" transform=\"scale(0.015625)\"/>\n       </defs>\n       <use xlink:href=\"#DejaVuSans-38\"/>\n       <use xlink:href=\"#DejaVuSans-30\" x=\"63.623047\"/>\n      </g>\n     </g>\n    </g>\n    <g id=\"ytick_6\">\n     <g id=\"line2d_11\">\n      <g>\n       <use xlink:href=\"#m8deb249498\" x=\"33.2875\" y=\"54.829241\" style=\"stroke: #000000; stroke-width: 0.8\"/>\n      </g>\n     </g>\n     <g id=\"text_11\">\n      <!-- 100 -->\n      <g transform=\"translate(7.2 58.62846) scale(0.1 -0.1)\">\n       <use xlink:href=\"#DejaVuSans-31\"/>\n       <use xlink:href=\"#DejaVuSans-30\" x=\"63.623047\"/>\n       <use xlink:href=\"#DejaVuSans-30\" x=\"127.246094\"/>\n      </g>\n     </g>\n    </g>\n    <g id=\"ytick_7\">\n     <g id=\"line2d_12\">\n      <g>\n       <use xlink:href=\"#m8deb249498\" x=\"33.2875\" y=\"11.13269\" style=\"stroke: #000000; stroke-width: 0.8\"/>\n      </g>\n     </g>\n     <g id=\"text_12\">\n      <!-- 120 -->\n      <g transform=\"translate(7.2 14.931908) scale(0.1 -0.1)\">\n       <use xlink:href=\"#DejaVuSans-31\"/>\n       <use xlink:href=\"#DejaVuSans-32\" x=\"63.623047\"/>\n       <use xlink:href=\"#DejaVuSans-30\" x=\"127.246094\"/>\n      </g>\n     </g>\n    </g>\n   </g>\n   <g id=\"patch_51\">\n    <path d=\"M 33.2875 273.312 \nL 33.2875 7.2 \n\" style=\"fill: none; stroke: #000000; stroke-width: 0.8; stroke-linejoin: miter; stroke-linecap: square\"/>\n   </g>\n   <g id=\"patch_52\">\n    <path d=\"M 390.4075 273.312 \nL 390.4075 7.2 \n\" style=\"fill: none; stroke: #000000; stroke-width: 0.8; stroke-linejoin: miter; stroke-linecap: square\"/>\n   </g>\n   <g id=\"patch_53\">\n    <path d=\"M 33.2875 273.312 \nL 390.4075 273.312 \n\" style=\"fill: none; stroke: #000000; stroke-width: 0.8; stroke-linejoin: miter; stroke-linecap: square\"/>\n   </g>\n   <g id=\"patch_54\">\n    <path d=\"M 33.2875 7.2 \nL 390.4075 7.2 \n\" style=\"fill: none; stroke: #000000; stroke-width: 0.8; stroke-linejoin: miter; stroke-linecap: square\"/>\n   </g>\n  </g>\n </g>\n <defs>\n  <clipPath id=\"p9a2bd823fe\">\n   <rect x=\"33.2875\" y=\"7.2\" width=\"357.12\" height=\"266.112\"/>\n  </clipPath>\n </defs>\n</svg>\n",
      "text/plain": [
       "<Figure size 640x480 with 1 Axes>"
      ]
     },
     "metadata": {},
     "output_type": "display_data"
    }
   ],
   "source": [
    "# df_main_table[\"goalConversions\"].value_counts()\n",
    "# time histogram title hour\n",
    "# df_main_table[\"visitServerHour\"].hist(bins=24, grid=False)\n",
    "df_main_table.groupby(\"goalConversions\")[\"visitServerHour\"].hist(bins=24, grid=False)\n",
    "# df_main_table.groupby(\"goalConversions\")[\"visitDuration\"].hist(grid=False)"
   ]
  },
  {
   "cell_type": "code",
   "execution_count": null,
   "metadata": {},
   "outputs": [],
   "source": [
    "df_main_table.groupby(\"goalConversions\")[\"visitServerHour\"].hist(bins=24, grid=False)"
   ]
  },
  {
   "cell_type": "code",
   "execution_count": 165,
   "metadata": {},
   "outputs": [
    {
     "name": "stdout",
     "output_type": "stream",
     "text": [
      "timestamp (actionDetails 0)\n",
      "timestamp (actionDetails 1)\n",
      "timestamp (actionDetails 2)\n",
      "timestamp (actionDetails 3)\n",
      "timestamp (actionDetails 4)\n",
      "timestamp (actionDetails 5)\n",
      "timestamp (actionDetails 6)\n",
      "timestamp (actionDetails 7)\n",
      "timestamp (actionDetails 8)\n",
      "timestamp (actionDetails 9)\n",
      "timestamp (actionDetails 10)\n",
      "timestamp (actionDetails 11)\n",
      "timestamp (actionDetails 12)\n",
      "timestamp (actionDetails 13)\n",
      "timestamp (actionDetails 14)\n",
      "timestamp (actionDetails 15)\n",
      "timestamp (actionDetails 16)\n",
      "timestamp (actionDetails 17)\n",
      "timestamp (actionDetails 18)\n",
      "timestamp (actionDetails 19)\n",
      "timestamp (actionDetails 20)\n",
      "timestamp (actionDetails 21)\n",
      "timestamp (actionDetails 22)\n",
      "timestamp (actionDetails 23)\n",
      "timestamp (actionDetails 24)\n",
      "timestamp (actionDetails 25)\n",
      "timestamp (actionDetails 26)\n",
      "timestamp (actionDetails 27)\n",
      "timestamp (actionDetails 28)\n",
      "timestamp (actionDetails 29)\n",
      "timestamp (actionDetails 30)\n",
      "timestamp (actionDetails 31)\n",
      "timestamp (actionDetails 32)\n",
      "timestamp (actionDetails 33)\n",
      "timestamp (actionDetails 34)\n",
      "timestamp (actionDetails 35)\n",
      "timestamp (actionDetails 36)\n",
      "timestamp (actionDetails 37)\n",
      "timestamp (actionDetails 38)\n",
      "timestamp (actionDetails 39)\n",
      "timestamp (actionDetails 40)\n",
      "timestamp (actionDetails 41)\n",
      "timestamp (actionDetails 42)\n",
      "timestamp (actionDetails 43)\n",
      "timestamp (actionDetails 44)\n",
      "timestamp (actionDetails 45)\n",
      "timestamp (actionDetails 46)\n",
      "timestamp (actionDetails 47)\n",
      "timestamp (actionDetails 48)\n",
      "timestamp (actionDetails 49)\n",
      "timestamp (actionDetails 50)\n",
      "timestamp (actionDetails 51)\n",
      "timestamp (actionDetails 52)\n",
      "timestamp (actionDetails 53)\n",
      "timestamp (actionDetails 54)\n",
      "timestamp (actionDetails 55)\n",
      "timestamp (actionDetails 56)\n",
      "timestamp (actionDetails 57)\n",
      "timestamp (actionDetails 58)\n",
      "timestamp (actionDetails 59)\n",
      "timestamp (actionDetails 60)\n",
      "timestamp (actionDetails 61)\n",
      "timestamp (actionDetails 62)\n",
      "timestamp (actionDetails 63)\n",
      "timestamp (actionDetails 64)\n",
      "timestamp (actionDetails 65)\n",
      "timestamp (actionDetails 66)\n",
      "timestamp (actionDetails 67)\n",
      "timestamp (actionDetails 68)\n",
      "timestamp (actionDetails 69)\n",
      "timestamp (actionDetails 70)\n",
      "timestamp (actionDetails 71)\n",
      "timestamp (actionDetails 72)\n",
      "timestamp (actionDetails 73)\n",
      "timestamp (actionDetails 74)\n",
      "timestamp (actionDetails 75)\n"
     ]
    }
   ],
   "source": [
    "def check_column_name_for_url(text):\n",
    "    for col in df_main_table.columns:\n",
    "        if text in col:\n",
    "            # if col.startswith(text):\n",
    "            print(col)\n",
    "\n",
    "\n",
    "check_column_name_for_url(\"timestamp\")"
   ]
  },
  {
   "cell_type": "code",
   "execution_count": 125,
   "metadata": {},
   "outputs": [
    {
     "data": {
      "text/plain": [
       "idSite                                         1635\n",
       "deviceType                                     1635\n",
       "browserFamilyDescription                       1635\n",
       "operatingSystemCode                            1635\n",
       "operatingSystemIcon                            1635\n",
       "                                               ... \n",
       "iconSVG (actionDetails 59)                        1\n",
       "subtitle (actionDetails 59)                       1\n",
       "title (actionDetails 59)                          1\n",
       "pageviewPosition (actionDetails 59)               1\n",
       "pageLoadTimeMilliseconds (actionDetails 28)       1\n",
       "Name: variable, Length: 1327, dtype: int64"
      ]
     },
     "execution_count": 125,
     "metadata": {},
     "output_type": "execute_result"
    }
   ],
   "source": [
    "df_main_table_unpivot.variable.value_counts()"
   ]
  },
  {
   "cell_type": "code",
   "execution_count": 58,
   "metadata": {},
   "outputs": [],
   "source": [
    "# \tuser_id\tevent\ttimestamp\n",
    "# 0\t219483890\tcatalog\t2019-11-01 17:59:13.273932\n",
    "# 1\t219483890\tproduct1\t2019-11-01 17:59:28.459271\n",
    "# 2\t219483890\tcart\t2019-11-01 17:59:29.502214\n",
    "# 3\t219483890\tcatalog\t2019-11-01 17:59:32.557029\n",
    "# 4\t964964743\tcatalog\t2019-11-01 21:38:19.283663"
   ]
  },
  {
   "cell_type": "code",
   "execution_count": null,
   "metadata": {},
   "outputs": [],
   "source": [
    "df_main_table_unpivot[[\"visitorId\"]]"
   ]
  },
  {
   "cell_type": "code",
   "execution_count": 64,
   "metadata": {},
   "outputs": [
    {
     "data": {
      "text/html": [
       "<div>\n",
       "<style scoped>\n",
       "    .dataframe tbody tr th:only-of-type {\n",
       "        vertical-align: middle;\n",
       "    }\n",
       "\n",
       "    .dataframe tbody tr th {\n",
       "        vertical-align: top;\n",
       "    }\n",
       "\n",
       "    .dataframe thead th {\n",
       "        text-align: right;\n",
       "    }\n",
       "</style>\n",
       "<table border=\"1\" class=\"dataframe\">\n",
       "  <thead>\n",
       "    <tr style=\"text-align: right;\">\n",
       "      <th></th>\n",
       "      <th>idVisit</th>\n",
       "      <th>visitIp</th>\n",
       "      <th>visitorId</th>\n",
       "      <th>fingerprint</th>\n",
       "      <th>variable</th>\n",
       "      <th>value</th>\n",
       "    </tr>\n",
       "  </thead>\n",
       "  <tbody>\n",
       "    <tr>\n",
       "      <th>760275</th>\n",
       "      <td>1635</td>\n",
       "      <td>0.0.0.0</td>\n",
       "      <td>1325bd43708ce745</td>\n",
       "      <td>c7465bb30019e4f9</td>\n",
       "      <td>timeSpentPretty (actionDetails 22)</td>\n",
       "      <td>NaN</td>\n",
       "    </tr>\n",
       "    <tr>\n",
       "      <th>760276</th>\n",
       "      <td>1634</td>\n",
       "      <td>::</td>\n",
       "      <td>ef8c93d3bd689104</td>\n",
       "      <td>3b2f0cac92457fd0</td>\n",
       "      <td>timeSpentPretty (actionDetails 22)</td>\n",
       "      <td>NaN</td>\n",
       "    </tr>\n",
       "    <tr>\n",
       "      <th>760277</th>\n",
       "      <td>1633</td>\n",
       "      <td>::</td>\n",
       "      <td>43f301f12b51690d</td>\n",
       "      <td>4742bf283a30b8e1</td>\n",
       "      <td>timeSpentPretty (actionDetails 22)</td>\n",
       "      <td>NaN</td>\n",
       "    </tr>\n",
       "    <tr>\n",
       "      <th>760278</th>\n",
       "      <td>1632</td>\n",
       "      <td>::</td>\n",
       "      <td>22255a94de0ad88e</td>\n",
       "      <td>7dae42ba27e15a9e</td>\n",
       "      <td>timeSpentPretty (actionDetails 22)</td>\n",
       "      <td>NaN</td>\n",
       "    </tr>\n",
       "    <tr>\n",
       "      <th>760279</th>\n",
       "      <td>1631</td>\n",
       "      <td>0.0.0.0</td>\n",
       "      <td>c9fa4e83991b6db7</td>\n",
       "      <td>abd8a6662a2e68d6</td>\n",
       "      <td>timeSpentPretty (actionDetails 22)</td>\n",
       "      <td>NaN</td>\n",
       "    </tr>\n",
       "  </tbody>\n",
       "</table>\n",
       "</div>"
      ],
      "text/plain": [
       "        idVisit  visitIp         visitorId       fingerprint  \\\n",
       "760275     1635  0.0.0.0  1325bd43708ce745  c7465bb30019e4f9   \n",
       "760276     1634       ::  ef8c93d3bd689104  3b2f0cac92457fd0   \n",
       "760277     1633       ::  43f301f12b51690d  4742bf283a30b8e1   \n",
       "760278     1632       ::  22255a94de0ad88e  7dae42ba27e15a9e   \n",
       "760279     1631  0.0.0.0  c9fa4e83991b6db7  abd8a6662a2e68d6   \n",
       "\n",
       "                                  variable value  \n",
       "760275  timeSpentPretty (actionDetails 22)   NaN  \n",
       "760276  timeSpentPretty (actionDetails 22)   NaN  \n",
       "760277  timeSpentPretty (actionDetails 22)   NaN  \n",
       "760278  timeSpentPretty (actionDetails 22)   NaN  \n",
       "760279  timeSpentPretty (actionDetails 22)   NaN  "
      ]
     },
     "execution_count": 64,
     "metadata": {},
     "output_type": "execute_result"
    }
   ],
   "source": [
    "df_main_table_unpivot[\n",
    "    df_main_table_unpivot[\"variable\"] == \"timeSpentPretty (actionDetails 22)\"\n",
    "].head()"
   ]
  },
  {
   "cell_type": "code",
   "execution_count": 68,
   "metadata": {},
   "outputs": [],
   "source": [
    "df_main_table_unpivot.dropna(subset=[\"value\"], inplace=True)"
   ]
  },
  {
   "cell_type": "code",
   "execution_count": 71,
   "metadata": {},
   "outputs": [],
   "source": [
    "# df_main_table_unpivot.to_csv(\"output/main_table_unpivot.csv\", index=False, encoding=\"utf-8\")"
   ]
  }
 ],
 "metadata": {
  "kernelspec": {
   "display_name": "web-tracking-analytics-NafoY0yc",
   "language": "python",
   "name": "python3"
  },
  "language_info": {
   "codemirror_mode": {
    "name": "ipython",
    "version": 3
   },
   "file_extension": ".py",
   "mimetype": "text/x-python",
   "name": "python",
   "nbconvert_exporter": "python",
   "pygments_lexer": "ipython3",
   "version": "3.10.6"
  },
  "orig_nbformat": 4
 },
 "nbformat": 4,
 "nbformat_minor": 2
}
