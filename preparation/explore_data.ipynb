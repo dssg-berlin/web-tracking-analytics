{
  "nbformat": 4,
  "nbformat_minor": 0,
  "metadata": {
    "colab": {
      "provenance": [],
      "authorship_tag": "ABX9TyNH0EoSanMMPO5dlTEMxPyQ",
      "include_colab_link": true
    },
    "kernelspec": {
      "name": "python3",
      "display_name": "Python 3"
    },
    "language_info": {
      "name": "python"
    }
  },
  "cells": [
    {
      "cell_type": "markdown",
      "metadata": {
        "id": "view-in-github",
        "colab_type": "text"
      },
      "source": [
        "<a href=\"https://colab.research.google.com/github/dssg-berlin/web-tracking-analytics/blob/main/preparation/explore_data.ipynb\" target=\"_parent\"><img src=\"https://colab.research.google.com/assets/colab-badge.svg\" alt=\"Open In Colab\"/></a>"
      ]
    },
    {
      "cell_type": "code",
      "execution_count": 1,
      "metadata": {
        "id": "03UiA2v2tjrh"
      },
      "outputs": [],
      "source": [
        "import pandas as pd"
      ]
    },
    {
      "cell_type": "code",
      "source": [
        "df = pd.read_csv(\"/content/Export _  _ 3. August 2022 – 8. März 2023.csv\", encoding=\"utf-16LE\", low_memory=False)\n",
        "df.shape"
      ],
      "metadata": {
        "colab": {
          "base_uri": "https://localhost:8080/"
        },
        "id": "YOUUIS11t5mY",
        "outputId": "6e5ad28f-cc1c-4d8e-f42a-6ce9ef3de010"
      },
      "execution_count": 5,
      "outputs": [
        {
          "output_type": "execute_result",
          "data": {
            "text/plain": [
              "(1635, 1403)"
            ]
          },
          "metadata": {},
          "execution_count": 5
        }
      ]
    },
    {
      "cell_type": "code",
      "source": [
        "df.columns"
      ],
      "metadata": {
        "colab": {
          "base_uri": "https://localhost:8080/"
        },
        "id": "Dt8yknb0uQYo",
        "outputId": "a50dfe16-e080-4436-bb11-749e661121a5"
      },
      "execution_count": 6,
      "outputs": [
        {
          "output_type": "execute_result",
          "data": {
            "text/plain": [
              "Index(['idSite', 'idVisit', 'visitIp', 'visitorId', 'fingerprint',\n",
              "       'type (actionDetails 0)', 'url (actionDetails 0)',\n",
              "       'pageTitle (actionDetails 0)', 'pageIdAction (actionDetails 0)',\n",
              "       'idpageview (actionDetails 0)',\n",
              "       ...\n",
              "       'iconSVG (actionDetails 75)', 'timestamp (actionDetails 75)',\n",
              "       'pageLoadTime (actionDetails 24)',\n",
              "       'pageLoadTimeMilliseconds (actionDetails 24)',\n",
              "       'pageLoadTime (actionDetails 25)',\n",
              "       'pageLoadTimeMilliseconds (actionDetails 25)',\n",
              "       'pageLoadTime (actionDetails 35)',\n",
              "       'pageLoadTimeMilliseconds (actionDetails 35)',\n",
              "       'pageLoadTime (actionDetails 28)',\n",
              "       'pageLoadTimeMilliseconds (actionDetails 28)'],\n",
              "      dtype='object', length=1403)"
            ]
          },
          "metadata": {},
          "execution_count": 6
        }
      ]
    },
    {
      "cell_type": "code",
      "source": [
        "# no privacy issues regarding IP\n",
        "df.visitIp.unique()"
      ],
      "metadata": {
        "colab": {
          "base_uri": "https://localhost:8080/"
        },
        "id": "gTN0db7WuT0c",
        "outputId": "46ba7d3b-6fef-4df4-ce2b-bd3c2453ce9c"
      },
      "execution_count": 7,
      "outputs": [
        {
          "output_type": "execute_result",
          "data": {
            "text/plain": [
              "array(['0.0.0.0', '::', '88.78.0.0'], dtype=object)"
            ]
          },
          "metadata": {},
          "execution_count": 7
        }
      ]
    },
    {
      "cell_type": "code",
      "source": [
        "df.visitorId.nunique()"
      ],
      "metadata": {
        "colab": {
          "base_uri": "https://localhost:8080/"
        },
        "id": "B9ZXRBq_umRJ",
        "outputId": "07b943ad-fcce-4953-f550-1be986012f2d"
      },
      "execution_count": 8,
      "outputs": [
        {
          "output_type": "execute_result",
          "data": {
            "text/plain": [
              "1634"
            ]
          },
          "metadata": {},
          "execution_count": 8
        }
      ]
    },
    {
      "cell_type": "code",
      "source": [
        "df.idVisit.nunique()"
      ],
      "metadata": {
        "colab": {
          "base_uri": "https://localhost:8080/"
        },
        "id": "DWzOHoX4uqwk",
        "outputId": "6ac25e5e-ec77-4585-f823-ab8f63863303"
      },
      "execution_count": 9,
      "outputs": [
        {
          "output_type": "execute_result",
          "data": {
            "text/plain": [
              "1635"
            ]
          },
          "metadata": {},
          "execution_count": 9
        }
      ]
    },
    {
      "cell_type": "code",
      "source": [
        "df.fingerprint.nunique()"
      ],
      "metadata": {
        "colab": {
          "base_uri": "https://localhost:8080/"
        },
        "id": "-RE6KPEWut5M",
        "outputId": "756cdfd7-2b5c-4d7f-daa2-8f3591f1a9a3"
      },
      "execution_count": 11,
      "outputs": [
        {
          "output_type": "execute_result",
          "data": {
            "text/plain": [
              "1493"
            ]
          },
          "metadata": {},
          "execution_count": 11
        }
      ]
    },
    {
      "cell_type": "code",
      "source": [
        "# returning visitors\n",
        "sum(df.fingerprint.value_counts()>1)"
      ],
      "metadata": {
        "colab": {
          "base_uri": "https://localhost:8080/"
        },
        "id": "j65kgtf2vIJS",
        "outputId": "c6d6e138-c676-4f40-d8c5-457771a6d683"
      },
      "execution_count": 14,
      "outputs": [
        {
          "output_type": "execute_result",
          "data": {
            "text/plain": [
              "104"
            ]
          },
          "metadata": {},
          "execution_count": 14
        }
      ]
    },
    {
      "cell_type": "code",
      "source": [
        "# most columns are empty\n",
        "df.isna().sum().hist()"
      ],
      "metadata": {
        "colab": {
          "base_uri": "https://localhost:8080/",
          "height": 282
        },
        "id": "DjkgTndXveu8",
        "outputId": "6ac20345-2958-4efb-db1a-9e01d98e2926"
      },
      "execution_count": 20,
      "outputs": [
        {
          "output_type": "execute_result",
          "data": {
            "text/plain": [
              "<AxesSubplot:>"
            ]
          },
          "metadata": {},
          "execution_count": 20
        },
        {
          "output_type": "display_data",
          "data": {
            "text/plain": [
              "<Figure size 432x288 with 1 Axes>"
            ],
            "image/png": "[encoded data removed]"
          },
          "metadata": {
            "needs_background": "light"
          }
        }
      ]
    },
    {
      "cell_type": "code",
      "source": [
        "# these columns have no missing values\n",
        "df.columns[df.isna().sum()==0]"
      ],
      "metadata": {
        "colab": {
          "base_uri": "https://localhost:8080/"
        },
        "id": "kylM4ZBPwFFH",
        "outputId": "b426df8f-9776-4b18-971e-7865cb94aa45"
      },
      "execution_count": 22,
      "outputs": [
        {
          "output_type": "execute_result",
          "data": {
            "text/plain": [
              "Index(['idSite', 'idVisit', 'visitIp', 'visitorId', 'fingerprint',\n",
              "       'type (actionDetails 0)', 'url (actionDetails 0)',\n",
              "       'pageIdAction (actionDetails 0)', 'idpageview (actionDetails 0)',\n",
              "       'serverTimePretty (actionDetails 0)', 'pageId (actionDetails 0)',\n",
              "       'title (actionDetails 0)', 'subtitle (actionDetails 0)',\n",
              "       'iconSVG (actionDetails 0)', 'timestamp (actionDetails 0)',\n",
              "       'goalConversions', 'siteCurrency', 'siteCurrencySymbol', 'serverDate',\n",
              "       'visitServerHour', 'lastActionTimestamp', 'lastActionDateTime',\n",
              "       'siteName', 'serverTimestamp', 'firstActionTimestamp',\n",
              "       'serverTimePretty', 'serverDatePretty', 'serverDatePrettyFirstAction',\n",
              "       'serverTimePrettyFirstAction', 'visitorType', 'visitConverted',\n",
              "       'visitCount', 'visitEcommerceStatus', 'daysSinceFirstVisit',\n",
              "       'secondsSinceFirstVisit', 'daysSinceLastEcommerceOrder',\n",
              "       'visitDuration', 'visitDurationPretty', 'searches', 'actions',\n",
              "       'interactions', 'referrerType', 'referrerTypeName', 'language',\n",
              "       'deviceType', 'deviceTypeIcon', 'deviceBrand', 'deviceModel',\n",
              "       'operatingSystem', 'operatingSystemName', 'operatingSystemIcon',\n",
              "       'operatingSystemCode', 'browserFamilyDescription', 'browser',\n",
              "       'browserName', 'browserIcon', 'browserCode', 'events', 'continent',\n",
              "       'continentCode', 'country', 'countryCode', 'countryFlag', 'location',\n",
              "       'visitLocalTime', 'visitLocalHour', 'daysSinceLastVisit',\n",
              "       'secondsSinceLastVisit', 'resolution', 'plugins',\n",
              "       'pluginIcon (pluginsIcons 0)', 'pluginName (pluginsIcons 0)'],\n",
              "      dtype='object')"
            ]
          },
          "metadata": {},
          "execution_count": 22
        }
      ]
    },
    {
      "cell_type": "code",
      "source": [
        "df[\"url (actionDetails 0)\"].value_counts()"
      ],
      "metadata": {
        "colab": {
          "base_uri": "https://localhost:8080/"
        },
        "id": "JUdIoCOgxx6_",
        "outputId": "2de6fb46-39ca-4602-fc2e-95bab2782dff"
      },
      "execution_count": 25,
      "outputs": [
        {
          "output_type": "execute_result",
          "data": {
            "text/plain": [
              "https://www.wirfuervielfalt.de/                                                                        629\n",
              "https://www.wirfuervielfalt.de/de/angebote/werde-volunteer-special-olympics-world-games-berlin-2023    107\n",
              "https://www.wirfuervielfalt.de/de/angebote/schule-gegen-sexismus-projekttag-7-9-klasse                  63\n",
              "https://www.wirfuervielfalt.de/vinedig                                                                  52\n",
              "https://www.wirfuervielfalt.de/ueberUns                                                                 42\n",
              "                                                                                                      ... \n",
              "https://www.wirfuervielfalt.de/de/uebersicht/?f=1056                                                     1\n",
              "https://www.wirfuervielfalt.de/de/angebote/miphgasch-begegnung-e.v                                       1\n",
              "https://www.instagram.com/interreligious__peers/                                                         1\n",
              "https://www.wirfuervielfalt.de/de/aktuelles/insta-live-talk-mit-natalie-dedreux                          1\n",
              "https://www.wirfuervielfalt.de/netzwerktreffen                                                           1\n",
              "Name: url (actionDetails 0), Length: 182, dtype: int64"
            ]
          },
          "metadata": {},
          "execution_count": 25
        }
      ]
    }
  ]
}