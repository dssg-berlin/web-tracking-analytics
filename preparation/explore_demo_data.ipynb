{
  "nbformat": 4,
  "nbformat_minor": 0,
  "metadata": {
    "colab": {
      "provenance": [],
      "authorship_tag": "ABX9TyM1vPEpsvbAT7DjNUYMPq26",
      "include_colab_link": true
    },
    "kernelspec": {
      "name": "python3",
      "display_name": "Python 3"
    },
    "language_info": {
      "name": "python"
    }
  },
  "cells": [
    {
      "cell_type": "markdown",
      "metadata": {
        "id": "view-in-github",
        "colab_type": "text"
      },
      "source": [
        "<a href=\"https://colab.research.google.com/github/dssg-berlin/web-tracking-analytics/blob/main/preparation/explore_demo_data.ipynb\" target=\"_parent\"><img src=\"https://colab.research.google.com/assets/colab-badge.svg\" alt=\"Open In Colab\"/></a>"
      ]
    },
    {
      "cell_type": "code",
      "execution_count": 1,
      "metadata": {
        "id": "LVLokmYRkP9c"
      },
      "outputs": [],
      "source": [
        "import pandas as pd"
      ]
    },
    {
      "cell_type": "code",
      "source": [
        "# Note that Matomo encodes csv files using utf-16le. https://github.com/matomo-org/matomo/issues/5729\n",
        "df = pd.read_csv(\"/content/Export _  _ Friday, March 3, 2023.csv\", encoding=\"UTF-16LE\", low_memory=False)\n",
        "df.head()"
      ],
      "metadata": {
        "colab": {
          "base_uri": "https://localhost:8080/",
          "height": 473
        },
        "id": "VgRHtu-hkg19",
        "outputId": "509d67aa-4268-4667-b645-06b0c100edba"
      },
      "execution_count": 13,
      "outputs": [
        {
          "output_type": "execute_result",
          "data": {
            "text/plain": [
              "   idSite  idVisit  visitIp  visitorId  fingerprint  type (actionDetails 0)  \\\n",
              "0       1  8797109      NaN          0            0                  action   \n",
              "1       1  8797064      NaN          0            0                  search   \n",
              "2       1  8797108      NaN          0            0  ecommerceAbandonedCart   \n",
              "3       1  8797107      NaN          0            0                  action   \n",
              "4       1  8797106      NaN          0            0                  action   \n",
              "\n",
              "                         url (actionDetails 0)  \\\n",
              "0  https://dive-shop.net/products/diving-tank/   \n",
              "1                                          NaN   \n",
              "2                                          NaN   \n",
              "3      https://dive-shop.net/best-of-the-best/   \n",
              "4          https://divezone.net/travel/red-sea   \n",
              "\n",
              "                         pageTitle (actionDetails 0)  \\\n",
              "0        Divezone Brand Diving Tank - Divezone Store   \n",
              "1                                                NaN   \n",
              "2                                                NaN   \n",
              "3  Divezone Free Guides: Running Your Own Dive Ce...   \n",
              "4  Red Sea Travel Tips – Things to do, Map and Be...   \n",
              "\n",
              "   pageIdAction (actionDetails 0) idpageview (actionDetails 0)  ...  \\\n",
              "0                            19.0                       d5Dhfk  ...   \n",
              "1                             NaN                       vHDPYF  ...   \n",
              "2                             NaN                          NaN  ...   \n",
              "3                            73.0                       76f1s0  ...   \n",
              "4                          1830.0                       U9aGYJ  ...   \n",
              "\n",
              "  referrerName (actionDetails 5)  referrerKeyword (actionDetails 5)  \\\n",
              "0                            NaN                                NaN   \n",
              "1                            NaN                                NaN   \n",
              "2                            NaN                                NaN   \n",
              "3                            NaN                                NaN   \n",
              "4                            NaN                                NaN   \n",
              "\n",
              "   contentName (actionDetails 9) contentPiece (actionDetails 9)  \\\n",
              "0                            NaN                            NaN   \n",
              "1                            NaN                            NaN   \n",
              "2                            NaN                            NaN   \n",
              "3                            NaN                            NaN   \n",
              "4                            NaN                            NaN   \n",
              "\n",
              "   contentTarget (actionDetails 9) contentInteraction (actionDetails 9)  \\\n",
              "0                              NaN                                  NaN   \n",
              "1                              NaN                                  NaN   \n",
              "2                              NaN                                  NaN   \n",
              "3                              NaN                                  NaN   \n",
              "4                              NaN                                  NaN   \n",
              "\n",
              "  contentName (actionDetails 10) contentPiece (actionDetails 10)  \\\n",
              "0                            NaN                             NaN   \n",
              "1                            NaN                             NaN   \n",
              "2                            NaN                             NaN   \n",
              "3                            NaN                             NaN   \n",
              "4                            NaN                             NaN   \n",
              "\n",
              "  contentTarget (actionDetails 10)  contentInteraction (actionDetails 10)  \n",
              "0                              NaN                                    NaN  \n",
              "1                              NaN                                    NaN  \n",
              "2                              NaN                                    NaN  \n",
              "3                              NaN                                    NaN  \n",
              "4                              NaN                                    NaN  \n",
              "\n",
              "[5 rows x 793 columns]"
            ],
            "text/html": [
              "\n",
              "  <div id=\"df-6edc101c-92ed-47d7-872d-5b0063b26400\">\n",
              "    <div class=\"colab-df-container\">\n",
              "      <div>\n",
              "<style scoped>\n",
              "    .dataframe tbody tr th:only-of-type {\n",
              "        vertical-align: middle;\n",
              "    }\n",
              "\n",
              "    .dataframe tbody tr th {\n",
              "        vertical-align: top;\n",
              "    }\n",
              "\n",
              "    .dataframe thead th {\n",
              "        text-align: right;\n",
              "    }\n",
              "</style>\n",
              "<table border=\"1\" class=\"dataframe\">\n",
              "  <thead>\n",
              "    <tr style=\"text-align: right;\">\n",
              "      <th></th>\n",
              "      <th>idSite</th>\n",
              "      <th>idVisit</th>\n",
              "      <th>visitIp</th>\n",
              "      <th>visitorId</th>\n",
              "      <th>fingerprint</th>\n",
              "      <th>type (actionDetails 0)</th>\n",
              "      <th>url (actionDetails 0)</th>\n",
              "      <th>pageTitle (actionDetails 0)</th>\n",
              "      <th>pageIdAction (actionDetails 0)</th>\n",
              "      <th>idpageview (actionDetails 0)</th>\n",
              "      <th>...</th>\n",
              "      <th>referrerName (actionDetails 5)</th>\n",
              "      <th>referrerKeyword (actionDetails 5)</th>\n",
              "      <th>contentName (actionDetails 9)</th>\n",
              "      <th>contentPiece (actionDetails 9)</th>\n",
              "      <th>contentTarget (actionDetails 9)</th>\n",
              "      <th>contentInteraction (actionDetails 9)</th>\n",
              "      <th>contentName (actionDetails 10)</th>\n",
              "      <th>contentPiece (actionDetails 10)</th>\n",
              "      <th>contentTarget (actionDetails 10)</th>\n",
              "      <th>contentInteraction (actionDetails 10)</th>\n",
              "    </tr>\n",
              "  </thead>\n",
              "  <tbody>\n",
              "    <tr>\n",
              "      <th>0</th>\n",
              "      <td>1</td>\n",
              "      <td>8797109</td>\n",
              "      <td>NaN</td>\n",
              "      <td>0</td>\n",
              "      <td>0</td>\n",
              "      <td>action</td>\n",
              "      <td>https://dive-shop.net/products/diving-tank/</td>\n",
              "      <td>Divezone Brand Diving Tank - Divezone Store</td>\n",
              "      <td>19.0</td>\n",
              "      <td>d5Dhfk</td>\n",
              "      <td>...</td>\n",
              "      <td>NaN</td>\n",
              "      <td>NaN</td>\n",
              "      <td>NaN</td>\n",
              "      <td>NaN</td>\n",
              "      <td>NaN</td>\n",
              "      <td>NaN</td>\n",
              "      <td>NaN</td>\n",
              "      <td>NaN</td>\n",
              "      <td>NaN</td>\n",
              "      <td>NaN</td>\n",
              "    </tr>\n",
              "    <tr>\n",
              "      <th>1</th>\n",
              "      <td>1</td>\n",
              "      <td>8797064</td>\n",
              "      <td>NaN</td>\n",
              "      <td>0</td>\n",
              "      <td>0</td>\n",
              "      <td>search</td>\n",
              "      <td>NaN</td>\n",
              "      <td>NaN</td>\n",
              "      <td>NaN</td>\n",
              "      <td>vHDPYF</td>\n",
              "      <td>...</td>\n",
              "      <td>NaN</td>\n",
              "      <td>NaN</td>\n",
              "      <td>NaN</td>\n",
              "      <td>NaN</td>\n",
              "      <td>NaN</td>\n",
              "      <td>NaN</td>\n",
              "      <td>NaN</td>\n",
              "      <td>NaN</td>\n",
              "      <td>NaN</td>\n",
              "      <td>NaN</td>\n",
              "    </tr>\n",
              "    <tr>\n",
              "      <th>2</th>\n",
              "      <td>1</td>\n",
              "      <td>8797108</td>\n",
              "      <td>NaN</td>\n",
              "      <td>0</td>\n",
              "      <td>0</td>\n",
              "      <td>ecommerceAbandonedCart</td>\n",
              "      <td>NaN</td>\n",
              "      <td>NaN</td>\n",
              "      <td>NaN</td>\n",
              "      <td>NaN</td>\n",
              "      <td>...</td>\n",
              "      <td>NaN</td>\n",
              "      <td>NaN</td>\n",
              "      <td>NaN</td>\n",
              "      <td>NaN</td>\n",
              "      <td>NaN</td>\n",
              "      <td>NaN</td>\n",
              "      <td>NaN</td>\n",
              "      <td>NaN</td>\n",
              "      <td>NaN</td>\n",
              "      <td>NaN</td>\n",
              "    </tr>\n",
              "    <tr>\n",
              "      <th>3</th>\n",
              "      <td>1</td>\n",
              "      <td>8797107</td>\n",
              "      <td>NaN</td>\n",
              "      <td>0</td>\n",
              "      <td>0</td>\n",
              "      <td>action</td>\n",
              "      <td>https://dive-shop.net/best-of-the-best/</td>\n",
              "      <td>Divezone Free Guides: Running Your Own Dive Ce...</td>\n",
              "      <td>73.0</td>\n",
              "      <td>76f1s0</td>\n",
              "      <td>...</td>\n",
              "      <td>NaN</td>\n",
              "      <td>NaN</td>\n",
              "      <td>NaN</td>\n",
              "      <td>NaN</td>\n",
              "      <td>NaN</td>\n",
              "      <td>NaN</td>\n",
              "      <td>NaN</td>\n",
              "      <td>NaN</td>\n",
              "      <td>NaN</td>\n",
              "      <td>NaN</td>\n",
              "    </tr>\n",
              "    <tr>\n",
              "      <th>4</th>\n",
              "      <td>1</td>\n",
              "      <td>8797106</td>\n",
              "      <td>NaN</td>\n",
              "      <td>0</td>\n",
              "      <td>0</td>\n",
              "      <td>action</td>\n",
              "      <td>https://divezone.net/travel/red-sea</td>\n",
              "      <td>Red Sea Travel Tips – Things to do, Map and Be...</td>\n",
              "      <td>1830.0</td>\n",
              "      <td>U9aGYJ</td>\n",
              "      <td>...</td>\n",
              "      <td>NaN</td>\n",
              "      <td>NaN</td>\n",
              "      <td>NaN</td>\n",
              "      <td>NaN</td>\n",
              "      <td>NaN</td>\n",
              "      <td>NaN</td>\n",
              "      <td>NaN</td>\n",
              "      <td>NaN</td>\n",
              "      <td>NaN</td>\n",
              "      <td>NaN</td>\n",
              "    </tr>\n",
              "  </tbody>\n",
              "</table>\n",
              "<p>5 rows × 793 columns</p>\n",
              "</div>\n",
              "      <button class=\"colab-df-convert\" onclick=\"convertToInteractive('df-6edc101c-92ed-47d7-872d-5b0063b26400')\"\n",
              "              title=\"Convert this dataframe to an interactive table.\"\n",
              "              style=\"display:none;\">\n",
              "        \n",
              "  <svg xmlns=\"http://www.w3.org/2000/svg\" height=\"24px\"viewBox=\"0 0 24 24\"\n",
              "       width=\"24px\">\n",
              "    <path d=\"M0 0h24v24H0V0z\" fill=\"none\"/>\n",
              "    <path d=\"M18.56 5.44l.94 2.06.94-2.06 2.06-.94-2.06-.94-.94-2.06-.94 2.06-2.06.94zm-11 1L8.5 8.5l.94-2.06 2.06-.94-2.06-.94L8.5 2.5l-.94 2.06-2.06.94zm10 10l.94 2.06.94-2.06 2.06-.94-2.06-.94-.94-2.06-.94 2.06-2.06.94z\"/><path d=\"M17.41 7.96l-1.37-1.37c-.4-.4-.92-.59-1.43-.59-.52 0-1.04.2-1.43.59L10.3 9.45l-7.72 7.72c-.78.78-.78 2.05 0 2.83L4 21.41c.39.39.9.59 1.41.59.51 0 1.02-.2 1.41-.59l7.78-7.78 2.81-2.81c.8-.78.8-2.07 0-2.86zM5.41 20L4 18.59l7.72-7.72 1.47 1.35L5.41 20z\"/>\n",
              "  </svg>\n",
              "      </button>\n",
              "      \n",
              "  <style>\n",
              "    .colab-df-container {\n",
              "      display:flex;\n",
              "      flex-wrap:wrap;\n",
              "      gap: 12px;\n",
              "    }\n",
              "\n",
              "    .colab-df-convert {\n",
              "      background-color: #E8F0FE;\n",
              "      border: none;\n",
              "      border-radius: 50%;\n",
              "      cursor: pointer;\n",
              "      display: none;\n",
              "      fill: #1967D2;\n",
              "      height: 32px;\n",
              "      padding: 0 0 0 0;\n",
              "      width: 32px;\n",
              "    }\n",
              "\n",
              "    .colab-df-convert:hover {\n",
              "      background-color: #E2EBFA;\n",
              "      box-shadow: 0px 1px 2px rgba(60, 64, 67, 0.3), 0px 1px 3px 1px rgba(60, 64, 67, 0.15);\n",
              "      fill: #174EA6;\n",
              "    }\n",
              "\n",
              "    [theme=dark] .colab-df-convert {\n",
              "      background-color: #3B4455;\n",
              "      fill: #D2E3FC;\n",
              "    }\n",
              "\n",
              "    [theme=dark] .colab-df-convert:hover {\n",
              "      background-color: #434B5C;\n",
              "      box-shadow: 0px 1px 3px 1px rgba(0, 0, 0, 0.15);\n",
              "      filter: drop-shadow(0px 1px 2px rgba(0, 0, 0, 0.3));\n",
              "      fill: #FFFFFF;\n",
              "    }\n",
              "  </style>\n",
              "\n",
              "      <script>\n",
              "        const buttonEl =\n",
              "          document.querySelector('#df-6edc101c-92ed-47d7-872d-5b0063b26400 button.colab-df-convert');\n",
              "        buttonEl.style.display =\n",
              "          google.colab.kernel.accessAllowed ? 'block' : 'none';\n",
              "\n",
              "        async function convertToInteractive(key) {\n",
              "          const element = document.querySelector('#df-6edc101c-92ed-47d7-872d-5b0063b26400');\n",
              "          const dataTable =\n",
              "            await google.colab.kernel.invokeFunction('convertToInteractive',\n",
              "                                                     [key], {});\n",
              "          if (!dataTable) return;\n",
              "\n",
              "          const docLinkHtml = 'Like what you see? Visit the ' +\n",
              "            '<a target=\"_blank\" href=https://colab.research.google.com/notebooks/data_table.ipynb>data table notebook</a>'\n",
              "            + ' to learn more about interactive tables.';\n",
              "          element.innerHTML = '';\n",
              "          dataTable['output_type'] = 'display_data';\n",
              "          await google.colab.output.renderOutput(dataTable, element);\n",
              "          const docLink = document.createElement('div');\n",
              "          docLink.innerHTML = docLinkHtml;\n",
              "          element.appendChild(docLink);\n",
              "        }\n",
              "      </script>\n",
              "    </div>\n",
              "  </div>\n",
              "  "
            ]
          },
          "metadata": {},
          "execution_count": 13
        }
      ]
    },
    {
      "cell_type": "code",
      "source": [
        "df.shape"
      ],
      "metadata": {
        "colab": {
          "base_uri": "https://localhost:8080/"
        },
        "id": "etLud0QLl138",
        "outputId": "6f7ea12a-1a2a-4653-e7e8-7b15d9e96f43"
      },
      "execution_count": 16,
      "outputs": [
        {
          "output_type": "execute_result",
          "data": {
            "text/plain": [
              "(1964, 793)"
            ]
          },
          "metadata": {},
          "execution_count": 16
        }
      ]
    },
    {
      "cell_type": "code",
      "source": [
        "df.idVisit.nunique()"
      ],
      "metadata": {
        "colab": {
          "base_uri": "https://localhost:8080/"
        },
        "id": "9nLmBi-duidM",
        "outputId": "ec31c631-76a8-4dc4-c6f5-af9fd2762996"
      },
      "execution_count": 22,
      "outputs": [
        {
          "output_type": "execute_result",
          "data": {
            "text/plain": [
              "1964"
            ]
          },
          "metadata": {},
          "execution_count": 22
        }
      ]
    },
    {
      "cell_type": "code",
      "source": [
        "df[\"url (actionDetails 0)\"].value_counts()"
      ],
      "metadata": {
        "colab": {
          "base_uri": "https://localhost:8080/"
        },
        "id": "COpzJ1iCl5ZH",
        "outputId": "3daadfaa-1c61-4cb4-e25f-4b6b06a9328b"
      },
      "execution_count": 21,
      "outputs": [
        {
          "output_type": "execute_result",
          "data": {
            "text/plain": [
              "https://divezone.net/jobs                             107\n",
              "https://dive-shop.net/products/basic-wetsuit/          56\n",
              "https://dive-shop.net/cart/                            55\n",
              "https://divezone.net/diving/bali                       55\n",
              "https://dive-shop.net/products/diving-tank/            53\n",
              "                                                     ... \n",
              "https://divezone.net/jobs/view/istruttore-italiano      1\n",
              "https://divezone.net/divesite/gili-mimpang              1\n",
              "https://divezone.net/jobs/apply/diver                   1\n",
              "https://divezone.net/liveaboard/seafari-explorer        1\n",
              "http://www.hotel-diving-manado.com/index.php            1\n",
              "Name: url (actionDetails 0), Length: 453, dtype: int64"
            ]
          },
          "metadata": {},
          "execution_count": 21
        }
      ]
    },
    {
      "cell_type": "code",
      "source": [
        "df.columns[df.isna().sum()==0]"
      ],
      "metadata": {
        "colab": {
          "base_uri": "https://localhost:8080/"
        },
        "id": "aYdTP0xmuzJU",
        "outputId": "07de36e3-e431-4862-dca2-a3c548c2c269"
      },
      "execution_count": 40,
      "outputs": [
        {
          "output_type": "execute_result",
          "data": {
            "text/plain": [
              "Index(['idSite', 'idVisit', 'visitorId', 'fingerprint',\n",
              "       'type (actionDetails 0)', 'serverTimePretty (actionDetails 0)',\n",
              "       'timestamp (actionDetails 0)', 'goalConversions', 'siteCurrency',\n",
              "       'siteCurrencySymbol', 'serverDate', 'visitServerHour',\n",
              "       'lastActionTimestamp', 'lastActionDateTime', 'siteName',\n",
              "       'serverTimestamp', 'firstActionTimestamp', 'serverTimePretty',\n",
              "       'serverDatePretty', 'serverDatePrettyFirstAction',\n",
              "       'serverTimePrettyFirstAction', 'visitorType', 'visitorTypeIcon',\n",
              "       'visitConverted', 'visitCount', 'visitEcommerceStatus',\n",
              "       'daysSinceFirstVisit', 'secondsSinceFirstVisit',\n",
              "       'daysSinceLastEcommerceOrder', 'visitDuration', 'visitDurationPretty',\n",
              "       'searches', 'actions', 'interactions', 'referrerType',\n",
              "       'referrerTypeName', 'language', 'deviceType', 'deviceTypeIcon',\n",
              "       'deviceBrand', 'deviceModel', 'operatingSystem', 'operatingSystemName',\n",
              "       'operatingSystemIcon', 'operatingSystemCode',\n",
              "       'browserFamilyDescription', 'browser', 'browserName', 'browserIcon',\n",
              "       'browserCode', 'totalEcommerceRevenue', 'totalEcommerceConversions',\n",
              "       'totalEcommerceItems', 'totalAbandonedCartsRevenue',\n",
              "       'totalAbandonedCarts', 'totalAbandonedCartsItems', 'events',\n",
              "       'continent', 'continentCode', 'country', 'countryCode', 'countryFlag',\n",
              "       'location', 'visitLocalTime', 'visitLocalHour', 'daysSinceLastVisit',\n",
              "       'secondsSinceLastVisit', 'resolution', 'formConversions'],\n",
              "      dtype='object')"
            ]
          },
          "metadata": {},
          "execution_count": 40
        }
      ]
    }
  ]
}